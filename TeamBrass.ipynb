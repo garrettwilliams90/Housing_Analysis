{
 "cells": [
  {
   "cell_type": "markdown",
   "metadata": {},
   "source": [
    "![for sale image, from https://time.com/5835778/selling-home-coronavirus/](https://api.time.com/wp-content/uploads/2020/05/selling-home-coronavirus.jpg?w=800&quality=85)\n",
    "\n",
    "# Project Title"
   ]
  },
  {
   "cell_type": "markdown",
   "metadata": {},
   "source": [
    "## Overview\n",
    "\n",
    "A one-paragraph overview of the project, including the business problem, data, methods, results and recommendations.\n",
    "\n",
    "## Business Problem\n",
    "\n",
    "A real estate agency wants us to model the sales price of homes in King County, Washington. They will use our model to help home buyers decide whether homes are underpriced or overpriced. The price of a home can be affected by multiple predictors. We will look at which predictors are statistically significant in terms of affecting a home price. Having a real estate agency use our model will build trust between them and the home buyer. This will likely result in the homebuyer using the same real estate agency if they sell their house in the future.\n"
   ]
  },
  {
   "cell_type": "markdown",
   "metadata": {},
   "source": [
    "## Data Understanding\n",
    "\n",
    "## REVISE LATER THIS WEEK\n",
    "\n",
    "This data came from Kings County, Washington. It gives us the House Sales for homes in King County, Washington. This will help us model what predicts a sales price for a home buyer. Each data entry represents a house. Our target variable is the price of the home. \n",
    "\n",
    "Describe the data being used for this project.\n",
    "\n",
    "Questions to consider:\n",
    "\n",
    "- Where did the data come from, and how do they relate to the data analysis questions?\n",
    "- What do the data represent? Who is in the sample and what variables are included?\n",
    "- What is the target variable?\n",
    "- What are the properties of the variables you intend to use?"
   ]
  },
  {
   "cell_type": "code",
   "execution_count": 1,
   "metadata": {},
   "outputs": [
    {
     "name": "stdout",
     "output_type": "stream",
     "text": [
      "Requirement already satisfied: geopy in /Users/garrettwilliams/opt/anaconda3/envs/learn-env/lib/python3.8/site-packages (2.2.0)\n",
      "Requirement already satisfied: geographiclib<2,>=1.49 in /Users/garrettwilliams/opt/anaconda3/envs/learn-env/lib/python3.8/site-packages (from geopy) (1.52)\n",
      "Note: you may need to restart the kernel to use updated packages.\n"
     ]
    }
   ],
   "source": [
    "pip install geopy"
   ]
  },
  {
   "cell_type": "code",
   "execution_count": 2,
   "metadata": {},
   "outputs": [],
   "source": [
    " # Basic imports\n",
    "import numpy as np\n",
    "import pandas as pd\n",
    "# Data visualizations\n",
    "import matplotlib.pyplot as plt\n",
    "import seaborn as sns\n",
    "# Pre-Processing\n",
    "from sklearn.model_selection import train_test_split\n",
    "from sklearn.preprocessing import StandardScaler\n",
    "from sklearn.preprocessing import OneHotEncoder\n",
    "# StatsModel and Metrics\n",
    "import statsmodels.api as sm\n",
    "from statsmodels.formula.api import ols\n",
    "from sklearn.metrics import r2_score, mean_squared_error, mean_absolute_error\n",
    "from sklearn.feature_selection import SelectKBest, mutual_info_regression\n",
    "\n",
    "# Install tool to get distance\n",
    "from geopy import distance"
   ]
  },
  {
   "cell_type": "markdown",
   "metadata": {},
   "source": [
    "#### Define Utility Function"
   ]
  },
  {
   "cell_type": "code",
   "execution_count": 3,
   "metadata": {},
   "outputs": [],
   "source": [
    "# # utils.py\n",
    "# import matplotlib.pyplot as plt\n",
    "# from sklearn.metrics import r2_score, mean_absolute_error, mean_squared_error\n",
    "\n",
    "def evaluate(y_train, train_preds, y_test, test_preds):\n",
    "    '''\n",
    "    Evaluate the amount of error between my model's predictionms and the actual values\n",
    "    for both a train and a test set\n",
    "    \n",
    "    Inputs: \n",
    "        y_train - array like, actual values for 'price for my train dataset\n",
    "        train_preds - array like, predicted values for 'price' for my train dataset\n",
    "        y_test\n",
    "        test_preds\n",
    "    \n",
    "    Outputs:\n",
    "        None\n",
    "    '''\n",
    "    print(f\"Train R2: {r2_score(y_train, train_preds):.4f}\")\n",
    "    print(f\"Test R2: {r2_score(y_test, test_preds):.4f}\")\n",
    "    print(\"*****\")\n",
    "    print(f\"Train RMSE: ${mean_squared_error(y_train, train_preds, squared=False):,.2f}\")\n",
    "    print(f\"Train RMSE: ${mean_squared_error(y_test, test_preds, squared=False):,.2f}\")\n",
    "    print(\"*****\")\n",
    "    print(f\"Train MAE: ${mean_absolute_error(y_train, train_preds):,.2f}\")\n",
    "    print(f\"Train MAE: ${mean_absolute_error(y_test, test_preds):,.2f}\")\n",
    "    print(\"*****\")\n",
    "    \n",
    "    # Calculate our residuals \n",
    "    train_residuals = y_train - train_preds\n",
    "    test_residuals = y_test - test_preds\n",
    "    \n",
    "    # Scatter plot \n",
    "    plt.scatter(train_preds, train_residuals, label = 'Train')\n",
    "    plt.scatter(test_preds, test_residuals, label = 'Test')\n",
    "    \n",
    "    plt.axhline(y=0, color = 'red', label = '0')\n",
    "    plt.xlabel('predictions')\n",
    "    plt.ylabel('residuals')\n",
    "    plt.legend()\n",
    "    \n",
    "    sm.qqplot(train_residuals, line = 'r', label = 'train residuals');\n",
    "    plt.legend()\n",
    "    \n",
    "    sm.qqplot(test_residuals, line = 'r', label = 'test residuals');\n",
    "    plt.legend()\n",
    "    plt.show()\n",
    "    \n",
    "    "
   ]
  },
  {
   "cell_type": "markdown",
   "metadata": {},
   "source": [
    "#### Read in Data"
   ]
  },
  {
   "cell_type": "code",
   "execution_count": 4,
   "metadata": {},
   "outputs": [
    {
     "name": "stdout",
     "output_type": "stream",
     "text": [
      "column_names.md   kc_house_data.csv\r\n"
     ]
    }
   ],
   "source": [
    "!ls data"
   ]
  },
  {
   "cell_type": "code",
   "execution_count": 5,
   "metadata": {},
   "outputs": [
    {
     "data": {
      "text/html": [
       "<div>\n",
       "<style scoped>\n",
       "    .dataframe tbody tr th:only-of-type {\n",
       "        vertical-align: middle;\n",
       "    }\n",
       "\n",
       "    .dataframe tbody tr th {\n",
       "        vertical-align: top;\n",
       "    }\n",
       "\n",
       "    .dataframe thead th {\n",
       "        text-align: right;\n",
       "    }\n",
       "</style>\n",
       "<table border=\"1\" class=\"dataframe\">\n",
       "  <thead>\n",
       "    <tr style=\"text-align: right;\">\n",
       "      <th></th>\n",
       "      <th>id</th>\n",
       "      <th>date</th>\n",
       "      <th>price</th>\n",
       "      <th>bedrooms</th>\n",
       "      <th>bathrooms</th>\n",
       "      <th>sqft_living</th>\n",
       "      <th>sqft_lot</th>\n",
       "      <th>floors</th>\n",
       "      <th>waterfront</th>\n",
       "      <th>view</th>\n",
       "      <th>...</th>\n",
       "      <th>grade</th>\n",
       "      <th>sqft_above</th>\n",
       "      <th>sqft_basement</th>\n",
       "      <th>yr_built</th>\n",
       "      <th>yr_renovated</th>\n",
       "      <th>zipcode</th>\n",
       "      <th>lat</th>\n",
       "      <th>long</th>\n",
       "      <th>sqft_living15</th>\n",
       "      <th>sqft_lot15</th>\n",
       "    </tr>\n",
       "  </thead>\n",
       "  <tbody>\n",
       "    <tr>\n",
       "      <th>0</th>\n",
       "      <td>7129300520</td>\n",
       "      <td>10/13/2014</td>\n",
       "      <td>221900.0</td>\n",
       "      <td>3</td>\n",
       "      <td>1.00</td>\n",
       "      <td>1180</td>\n",
       "      <td>5650</td>\n",
       "      <td>1.0</td>\n",
       "      <td>NaN</td>\n",
       "      <td>NONE</td>\n",
       "      <td>...</td>\n",
       "      <td>7 Average</td>\n",
       "      <td>1180</td>\n",
       "      <td>0.0</td>\n",
       "      <td>1955</td>\n",
       "      <td>0.0</td>\n",
       "      <td>98178</td>\n",
       "      <td>47.5112</td>\n",
       "      <td>-122.257</td>\n",
       "      <td>1340</td>\n",
       "      <td>5650</td>\n",
       "    </tr>\n",
       "    <tr>\n",
       "      <th>1</th>\n",
       "      <td>6414100192</td>\n",
       "      <td>12/9/2014</td>\n",
       "      <td>538000.0</td>\n",
       "      <td>3</td>\n",
       "      <td>2.25</td>\n",
       "      <td>2570</td>\n",
       "      <td>7242</td>\n",
       "      <td>2.0</td>\n",
       "      <td>NO</td>\n",
       "      <td>NONE</td>\n",
       "      <td>...</td>\n",
       "      <td>7 Average</td>\n",
       "      <td>2170</td>\n",
       "      <td>400.0</td>\n",
       "      <td>1951</td>\n",
       "      <td>1991.0</td>\n",
       "      <td>98125</td>\n",
       "      <td>47.7210</td>\n",
       "      <td>-122.319</td>\n",
       "      <td>1690</td>\n",
       "      <td>7639</td>\n",
       "    </tr>\n",
       "    <tr>\n",
       "      <th>2</th>\n",
       "      <td>5631500400</td>\n",
       "      <td>2/25/2015</td>\n",
       "      <td>180000.0</td>\n",
       "      <td>2</td>\n",
       "      <td>1.00</td>\n",
       "      <td>770</td>\n",
       "      <td>10000</td>\n",
       "      <td>1.0</td>\n",
       "      <td>NO</td>\n",
       "      <td>NONE</td>\n",
       "      <td>...</td>\n",
       "      <td>6 Low Average</td>\n",
       "      <td>770</td>\n",
       "      <td>0.0</td>\n",
       "      <td>1933</td>\n",
       "      <td>NaN</td>\n",
       "      <td>98028</td>\n",
       "      <td>47.7379</td>\n",
       "      <td>-122.233</td>\n",
       "      <td>2720</td>\n",
       "      <td>8062</td>\n",
       "    </tr>\n",
       "    <tr>\n",
       "      <th>3</th>\n",
       "      <td>2487200875</td>\n",
       "      <td>12/9/2014</td>\n",
       "      <td>604000.0</td>\n",
       "      <td>4</td>\n",
       "      <td>3.00</td>\n",
       "      <td>1960</td>\n",
       "      <td>5000</td>\n",
       "      <td>1.0</td>\n",
       "      <td>NO</td>\n",
       "      <td>NONE</td>\n",
       "      <td>...</td>\n",
       "      <td>7 Average</td>\n",
       "      <td>1050</td>\n",
       "      <td>910.0</td>\n",
       "      <td>1965</td>\n",
       "      <td>0.0</td>\n",
       "      <td>98136</td>\n",
       "      <td>47.5208</td>\n",
       "      <td>-122.393</td>\n",
       "      <td>1360</td>\n",
       "      <td>5000</td>\n",
       "    </tr>\n",
       "    <tr>\n",
       "      <th>4</th>\n",
       "      <td>1954400510</td>\n",
       "      <td>2/18/2015</td>\n",
       "      <td>510000.0</td>\n",
       "      <td>3</td>\n",
       "      <td>2.00</td>\n",
       "      <td>1680</td>\n",
       "      <td>8080</td>\n",
       "      <td>1.0</td>\n",
       "      <td>NO</td>\n",
       "      <td>NONE</td>\n",
       "      <td>...</td>\n",
       "      <td>8 Good</td>\n",
       "      <td>1680</td>\n",
       "      <td>0.0</td>\n",
       "      <td>1987</td>\n",
       "      <td>0.0</td>\n",
       "      <td>98074</td>\n",
       "      <td>47.6168</td>\n",
       "      <td>-122.045</td>\n",
       "      <td>1800</td>\n",
       "      <td>7503</td>\n",
       "    </tr>\n",
       "    <tr>\n",
       "      <th>...</th>\n",
       "      <td>...</td>\n",
       "      <td>...</td>\n",
       "      <td>...</td>\n",
       "      <td>...</td>\n",
       "      <td>...</td>\n",
       "      <td>...</td>\n",
       "      <td>...</td>\n",
       "      <td>...</td>\n",
       "      <td>...</td>\n",
       "      <td>...</td>\n",
       "      <td>...</td>\n",
       "      <td>...</td>\n",
       "      <td>...</td>\n",
       "      <td>...</td>\n",
       "      <td>...</td>\n",
       "      <td>...</td>\n",
       "      <td>...</td>\n",
       "      <td>...</td>\n",
       "      <td>...</td>\n",
       "      <td>...</td>\n",
       "      <td>...</td>\n",
       "    </tr>\n",
       "    <tr>\n",
       "      <th>21592</th>\n",
       "      <td>263000018</td>\n",
       "      <td>5/21/2014</td>\n",
       "      <td>360000.0</td>\n",
       "      <td>3</td>\n",
       "      <td>2.50</td>\n",
       "      <td>1530</td>\n",
       "      <td>1131</td>\n",
       "      <td>3.0</td>\n",
       "      <td>NO</td>\n",
       "      <td>NONE</td>\n",
       "      <td>...</td>\n",
       "      <td>8 Good</td>\n",
       "      <td>1530</td>\n",
       "      <td>0.0</td>\n",
       "      <td>2009</td>\n",
       "      <td>0.0</td>\n",
       "      <td>98103</td>\n",
       "      <td>47.6993</td>\n",
       "      <td>-122.346</td>\n",
       "      <td>1530</td>\n",
       "      <td>1509</td>\n",
       "    </tr>\n",
       "    <tr>\n",
       "      <th>21593</th>\n",
       "      <td>6600060120</td>\n",
       "      <td>2/23/2015</td>\n",
       "      <td>400000.0</td>\n",
       "      <td>4</td>\n",
       "      <td>2.50</td>\n",
       "      <td>2310</td>\n",
       "      <td>5813</td>\n",
       "      <td>2.0</td>\n",
       "      <td>NO</td>\n",
       "      <td>NONE</td>\n",
       "      <td>...</td>\n",
       "      <td>8 Good</td>\n",
       "      <td>2310</td>\n",
       "      <td>0.0</td>\n",
       "      <td>2014</td>\n",
       "      <td>0.0</td>\n",
       "      <td>98146</td>\n",
       "      <td>47.5107</td>\n",
       "      <td>-122.362</td>\n",
       "      <td>1830</td>\n",
       "      <td>7200</td>\n",
       "    </tr>\n",
       "    <tr>\n",
       "      <th>21594</th>\n",
       "      <td>1523300141</td>\n",
       "      <td>6/23/2014</td>\n",
       "      <td>402101.0</td>\n",
       "      <td>2</td>\n",
       "      <td>0.75</td>\n",
       "      <td>1020</td>\n",
       "      <td>1350</td>\n",
       "      <td>2.0</td>\n",
       "      <td>NO</td>\n",
       "      <td>NONE</td>\n",
       "      <td>...</td>\n",
       "      <td>7 Average</td>\n",
       "      <td>1020</td>\n",
       "      <td>0.0</td>\n",
       "      <td>2009</td>\n",
       "      <td>0.0</td>\n",
       "      <td>98144</td>\n",
       "      <td>47.5944</td>\n",
       "      <td>-122.299</td>\n",
       "      <td>1020</td>\n",
       "      <td>2007</td>\n",
       "    </tr>\n",
       "    <tr>\n",
       "      <th>21595</th>\n",
       "      <td>291310100</td>\n",
       "      <td>1/16/2015</td>\n",
       "      <td>400000.0</td>\n",
       "      <td>3</td>\n",
       "      <td>2.50</td>\n",
       "      <td>1600</td>\n",
       "      <td>2388</td>\n",
       "      <td>2.0</td>\n",
       "      <td>NaN</td>\n",
       "      <td>NONE</td>\n",
       "      <td>...</td>\n",
       "      <td>8 Good</td>\n",
       "      <td>1600</td>\n",
       "      <td>0.0</td>\n",
       "      <td>2004</td>\n",
       "      <td>0.0</td>\n",
       "      <td>98027</td>\n",
       "      <td>47.5345</td>\n",
       "      <td>-122.069</td>\n",
       "      <td>1410</td>\n",
       "      <td>1287</td>\n",
       "    </tr>\n",
       "    <tr>\n",
       "      <th>21596</th>\n",
       "      <td>1523300157</td>\n",
       "      <td>10/15/2014</td>\n",
       "      <td>325000.0</td>\n",
       "      <td>2</td>\n",
       "      <td>0.75</td>\n",
       "      <td>1020</td>\n",
       "      <td>1076</td>\n",
       "      <td>2.0</td>\n",
       "      <td>NO</td>\n",
       "      <td>NONE</td>\n",
       "      <td>...</td>\n",
       "      <td>7 Average</td>\n",
       "      <td>1020</td>\n",
       "      <td>0.0</td>\n",
       "      <td>2008</td>\n",
       "      <td>0.0</td>\n",
       "      <td>98144</td>\n",
       "      <td>47.5941</td>\n",
       "      <td>-122.299</td>\n",
       "      <td>1020</td>\n",
       "      <td>1357</td>\n",
       "    </tr>\n",
       "  </tbody>\n",
       "</table>\n",
       "<p>21597 rows × 21 columns</p>\n",
       "</div>"
      ],
      "text/plain": [
       "               id        date     price  bedrooms  bathrooms  sqft_living  \\\n",
       "0      7129300520  10/13/2014  221900.0         3       1.00         1180   \n",
       "1      6414100192   12/9/2014  538000.0         3       2.25         2570   \n",
       "2      5631500400   2/25/2015  180000.0         2       1.00          770   \n",
       "3      2487200875   12/9/2014  604000.0         4       3.00         1960   \n",
       "4      1954400510   2/18/2015  510000.0         3       2.00         1680   \n",
       "...           ...         ...       ...       ...        ...          ...   \n",
       "21592   263000018   5/21/2014  360000.0         3       2.50         1530   \n",
       "21593  6600060120   2/23/2015  400000.0         4       2.50         2310   \n",
       "21594  1523300141   6/23/2014  402101.0         2       0.75         1020   \n",
       "21595   291310100   1/16/2015  400000.0         3       2.50         1600   \n",
       "21596  1523300157  10/15/2014  325000.0         2       0.75         1020   \n",
       "\n",
       "       sqft_lot  floors waterfront  view  ...          grade sqft_above  \\\n",
       "0          5650     1.0        NaN  NONE  ...      7 Average       1180   \n",
       "1          7242     2.0         NO  NONE  ...      7 Average       2170   \n",
       "2         10000     1.0         NO  NONE  ...  6 Low Average        770   \n",
       "3          5000     1.0         NO  NONE  ...      7 Average       1050   \n",
       "4          8080     1.0         NO  NONE  ...         8 Good       1680   \n",
       "...         ...     ...        ...   ...  ...            ...        ...   \n",
       "21592      1131     3.0         NO  NONE  ...         8 Good       1530   \n",
       "21593      5813     2.0         NO  NONE  ...         8 Good       2310   \n",
       "21594      1350     2.0         NO  NONE  ...      7 Average       1020   \n",
       "21595      2388     2.0        NaN  NONE  ...         8 Good       1600   \n",
       "21596      1076     2.0         NO  NONE  ...      7 Average       1020   \n",
       "\n",
       "       sqft_basement yr_built  yr_renovated  zipcode      lat     long  \\\n",
       "0                0.0     1955           0.0    98178  47.5112 -122.257   \n",
       "1              400.0     1951        1991.0    98125  47.7210 -122.319   \n",
       "2                0.0     1933           NaN    98028  47.7379 -122.233   \n",
       "3              910.0     1965           0.0    98136  47.5208 -122.393   \n",
       "4                0.0     1987           0.0    98074  47.6168 -122.045   \n",
       "...              ...      ...           ...      ...      ...      ...   \n",
       "21592            0.0     2009           0.0    98103  47.6993 -122.346   \n",
       "21593            0.0     2014           0.0    98146  47.5107 -122.362   \n",
       "21594            0.0     2009           0.0    98144  47.5944 -122.299   \n",
       "21595            0.0     2004           0.0    98027  47.5345 -122.069   \n",
       "21596            0.0     2008           0.0    98144  47.5941 -122.299   \n",
       "\n",
       "       sqft_living15  sqft_lot15  \n",
       "0               1340        5650  \n",
       "1               1690        7639  \n",
       "2               2720        8062  \n",
       "3               1360        5000  \n",
       "4               1800        7503  \n",
       "...              ...         ...  \n",
       "21592           1530        1509  \n",
       "21593           1830        7200  \n",
       "21594           1020        2007  \n",
       "21595           1410        1287  \n",
       "21596           1020        1357  \n",
       "\n",
       "[21597 rows x 21 columns]"
      ]
     },
     "execution_count": 5,
     "metadata": {},
     "output_type": "execute_result"
    }
   ],
   "source": [
    "# Load Housing Data Set\n",
    "df = pd.read_csv('data/kc_house_data.csv')\n",
    "df"
   ]
  },
  {
   "cell_type": "code",
   "execution_count": 6,
   "metadata": {},
   "outputs": [
    {
     "name": "stdout",
     "output_type": "stream",
     "text": [
      "<class 'pandas.core.frame.DataFrame'>\n",
      "RangeIndex: 21597 entries, 0 to 21596\n",
      "Data columns (total 21 columns):\n",
      " #   Column         Non-Null Count  Dtype  \n",
      "---  ------         --------------  -----  \n",
      " 0   id             21597 non-null  int64  \n",
      " 1   date           21597 non-null  object \n",
      " 2   price          21597 non-null  float64\n",
      " 3   bedrooms       21597 non-null  int64  \n",
      " 4   bathrooms      21597 non-null  float64\n",
      " 5   sqft_living    21597 non-null  int64  \n",
      " 6   sqft_lot       21597 non-null  int64  \n",
      " 7   floors         21597 non-null  float64\n",
      " 8   waterfront     19221 non-null  object \n",
      " 9   view           21534 non-null  object \n",
      " 10  condition      21597 non-null  object \n",
      " 11  grade          21597 non-null  object \n",
      " 12  sqft_above     21597 non-null  int64  \n",
      " 13  sqft_basement  21597 non-null  object \n",
      " 14  yr_built       21597 non-null  int64  \n",
      " 15  yr_renovated   17755 non-null  float64\n",
      " 16  zipcode        21597 non-null  int64  \n",
      " 17  lat            21597 non-null  float64\n",
      " 18  long           21597 non-null  float64\n",
      " 19  sqft_living15  21597 non-null  int64  \n",
      " 20  sqft_lot15     21597 non-null  int64  \n",
      "dtypes: float64(6), int64(9), object(6)\n",
      "memory usage: 3.5+ MB\n"
     ]
    }
   ],
   "source": [
    "#Information on dataframe\n",
    "df.info()"
   ]
  },
  {
   "cell_type": "code",
   "execution_count": 7,
   "metadata": {},
   "outputs": [
    {
     "data": {
      "text/html": [
       "<div>\n",
       "<style scoped>\n",
       "    .dataframe tbody tr th:only-of-type {\n",
       "        vertical-align: middle;\n",
       "    }\n",
       "\n",
       "    .dataframe tbody tr th {\n",
       "        vertical-align: top;\n",
       "    }\n",
       "\n",
       "    .dataframe thead th {\n",
       "        text-align: right;\n",
       "    }\n",
       "</style>\n",
       "<table border=\"1\" class=\"dataframe\">\n",
       "  <thead>\n",
       "    <tr style=\"text-align: right;\">\n",
       "      <th></th>\n",
       "      <th>id</th>\n",
       "      <th>price</th>\n",
       "      <th>bedrooms</th>\n",
       "      <th>bathrooms</th>\n",
       "      <th>sqft_living</th>\n",
       "      <th>sqft_lot</th>\n",
       "      <th>floors</th>\n",
       "      <th>sqft_above</th>\n",
       "      <th>yr_built</th>\n",
       "      <th>yr_renovated</th>\n",
       "      <th>zipcode</th>\n",
       "      <th>lat</th>\n",
       "      <th>long</th>\n",
       "      <th>sqft_living15</th>\n",
       "      <th>sqft_lot15</th>\n",
       "    </tr>\n",
       "  </thead>\n",
       "  <tbody>\n",
       "    <tr>\n",
       "      <th>count</th>\n",
       "      <td>2.159700e+04</td>\n",
       "      <td>2.159700e+04</td>\n",
       "      <td>21597.000000</td>\n",
       "      <td>21597.000000</td>\n",
       "      <td>21597.000000</td>\n",
       "      <td>2.159700e+04</td>\n",
       "      <td>21597.000000</td>\n",
       "      <td>21597.000000</td>\n",
       "      <td>21597.000000</td>\n",
       "      <td>17755.000000</td>\n",
       "      <td>21597.000000</td>\n",
       "      <td>21597.000000</td>\n",
       "      <td>21597.000000</td>\n",
       "      <td>21597.000000</td>\n",
       "      <td>21597.000000</td>\n",
       "    </tr>\n",
       "    <tr>\n",
       "      <th>mean</th>\n",
       "      <td>4.580474e+09</td>\n",
       "      <td>5.402966e+05</td>\n",
       "      <td>3.373200</td>\n",
       "      <td>2.115826</td>\n",
       "      <td>2080.321850</td>\n",
       "      <td>1.509941e+04</td>\n",
       "      <td>1.494096</td>\n",
       "      <td>1788.596842</td>\n",
       "      <td>1970.999676</td>\n",
       "      <td>83.636778</td>\n",
       "      <td>98077.951845</td>\n",
       "      <td>47.560093</td>\n",
       "      <td>-122.213982</td>\n",
       "      <td>1986.620318</td>\n",
       "      <td>12758.283512</td>\n",
       "    </tr>\n",
       "    <tr>\n",
       "      <th>std</th>\n",
       "      <td>2.876736e+09</td>\n",
       "      <td>3.673681e+05</td>\n",
       "      <td>0.926299</td>\n",
       "      <td>0.768984</td>\n",
       "      <td>918.106125</td>\n",
       "      <td>4.141264e+04</td>\n",
       "      <td>0.539683</td>\n",
       "      <td>827.759761</td>\n",
       "      <td>29.375234</td>\n",
       "      <td>399.946414</td>\n",
       "      <td>53.513072</td>\n",
       "      <td>0.138552</td>\n",
       "      <td>0.140724</td>\n",
       "      <td>685.230472</td>\n",
       "      <td>27274.441950</td>\n",
       "    </tr>\n",
       "    <tr>\n",
       "      <th>min</th>\n",
       "      <td>1.000102e+06</td>\n",
       "      <td>7.800000e+04</td>\n",
       "      <td>1.000000</td>\n",
       "      <td>0.500000</td>\n",
       "      <td>370.000000</td>\n",
       "      <td>5.200000e+02</td>\n",
       "      <td>1.000000</td>\n",
       "      <td>370.000000</td>\n",
       "      <td>1900.000000</td>\n",
       "      <td>0.000000</td>\n",
       "      <td>98001.000000</td>\n",
       "      <td>47.155900</td>\n",
       "      <td>-122.519000</td>\n",
       "      <td>399.000000</td>\n",
       "      <td>651.000000</td>\n",
       "    </tr>\n",
       "    <tr>\n",
       "      <th>25%</th>\n",
       "      <td>2.123049e+09</td>\n",
       "      <td>3.220000e+05</td>\n",
       "      <td>3.000000</td>\n",
       "      <td>1.750000</td>\n",
       "      <td>1430.000000</td>\n",
       "      <td>5.040000e+03</td>\n",
       "      <td>1.000000</td>\n",
       "      <td>1190.000000</td>\n",
       "      <td>1951.000000</td>\n",
       "      <td>0.000000</td>\n",
       "      <td>98033.000000</td>\n",
       "      <td>47.471100</td>\n",
       "      <td>-122.328000</td>\n",
       "      <td>1490.000000</td>\n",
       "      <td>5100.000000</td>\n",
       "    </tr>\n",
       "    <tr>\n",
       "      <th>50%</th>\n",
       "      <td>3.904930e+09</td>\n",
       "      <td>4.500000e+05</td>\n",
       "      <td>3.000000</td>\n",
       "      <td>2.250000</td>\n",
       "      <td>1910.000000</td>\n",
       "      <td>7.618000e+03</td>\n",
       "      <td>1.500000</td>\n",
       "      <td>1560.000000</td>\n",
       "      <td>1975.000000</td>\n",
       "      <td>0.000000</td>\n",
       "      <td>98065.000000</td>\n",
       "      <td>47.571800</td>\n",
       "      <td>-122.231000</td>\n",
       "      <td>1840.000000</td>\n",
       "      <td>7620.000000</td>\n",
       "    </tr>\n",
       "    <tr>\n",
       "      <th>75%</th>\n",
       "      <td>7.308900e+09</td>\n",
       "      <td>6.450000e+05</td>\n",
       "      <td>4.000000</td>\n",
       "      <td>2.500000</td>\n",
       "      <td>2550.000000</td>\n",
       "      <td>1.068500e+04</td>\n",
       "      <td>2.000000</td>\n",
       "      <td>2210.000000</td>\n",
       "      <td>1997.000000</td>\n",
       "      <td>0.000000</td>\n",
       "      <td>98118.000000</td>\n",
       "      <td>47.678000</td>\n",
       "      <td>-122.125000</td>\n",
       "      <td>2360.000000</td>\n",
       "      <td>10083.000000</td>\n",
       "    </tr>\n",
       "    <tr>\n",
       "      <th>max</th>\n",
       "      <td>9.900000e+09</td>\n",
       "      <td>7.700000e+06</td>\n",
       "      <td>33.000000</td>\n",
       "      <td>8.000000</td>\n",
       "      <td>13540.000000</td>\n",
       "      <td>1.651359e+06</td>\n",
       "      <td>3.500000</td>\n",
       "      <td>9410.000000</td>\n",
       "      <td>2015.000000</td>\n",
       "      <td>2015.000000</td>\n",
       "      <td>98199.000000</td>\n",
       "      <td>47.777600</td>\n",
       "      <td>-121.315000</td>\n",
       "      <td>6210.000000</td>\n",
       "      <td>871200.000000</td>\n",
       "    </tr>\n",
       "  </tbody>\n",
       "</table>\n",
       "</div>"
      ],
      "text/plain": [
       "                 id         price      bedrooms     bathrooms   sqft_living  \\\n",
       "count  2.159700e+04  2.159700e+04  21597.000000  21597.000000  21597.000000   \n",
       "mean   4.580474e+09  5.402966e+05      3.373200      2.115826   2080.321850   \n",
       "std    2.876736e+09  3.673681e+05      0.926299      0.768984    918.106125   \n",
       "min    1.000102e+06  7.800000e+04      1.000000      0.500000    370.000000   \n",
       "25%    2.123049e+09  3.220000e+05      3.000000      1.750000   1430.000000   \n",
       "50%    3.904930e+09  4.500000e+05      3.000000      2.250000   1910.000000   \n",
       "75%    7.308900e+09  6.450000e+05      4.000000      2.500000   2550.000000   \n",
       "max    9.900000e+09  7.700000e+06     33.000000      8.000000  13540.000000   \n",
       "\n",
       "           sqft_lot        floors    sqft_above      yr_built  yr_renovated  \\\n",
       "count  2.159700e+04  21597.000000  21597.000000  21597.000000  17755.000000   \n",
       "mean   1.509941e+04      1.494096   1788.596842   1970.999676     83.636778   \n",
       "std    4.141264e+04      0.539683    827.759761     29.375234    399.946414   \n",
       "min    5.200000e+02      1.000000    370.000000   1900.000000      0.000000   \n",
       "25%    5.040000e+03      1.000000   1190.000000   1951.000000      0.000000   \n",
       "50%    7.618000e+03      1.500000   1560.000000   1975.000000      0.000000   \n",
       "75%    1.068500e+04      2.000000   2210.000000   1997.000000      0.000000   \n",
       "max    1.651359e+06      3.500000   9410.000000   2015.000000   2015.000000   \n",
       "\n",
       "            zipcode           lat          long  sqft_living15     sqft_lot15  \n",
       "count  21597.000000  21597.000000  21597.000000   21597.000000   21597.000000  \n",
       "mean   98077.951845     47.560093   -122.213982    1986.620318   12758.283512  \n",
       "std       53.513072      0.138552      0.140724     685.230472   27274.441950  \n",
       "min    98001.000000     47.155900   -122.519000     399.000000     651.000000  \n",
       "25%    98033.000000     47.471100   -122.328000    1490.000000    5100.000000  \n",
       "50%    98065.000000     47.571800   -122.231000    1840.000000    7620.000000  \n",
       "75%    98118.000000     47.678000   -122.125000    2360.000000   10083.000000  \n",
       "max    98199.000000     47.777600   -121.315000    6210.000000  871200.000000  "
      ]
     },
     "execution_count": 7,
     "metadata": {},
     "output_type": "execute_result"
    }
   ],
   "source": [
    "#Describe the dataframe with descriptive statistics\n",
    "df.describe()"
   ]
  },
  {
   "cell_type": "code",
   "execution_count": 8,
   "metadata": {},
   "outputs": [
    {
     "data": {
      "text/plain": [
       "795000620     3\n",
       "1825069031    2\n",
       "2019200220    2\n",
       "7129304540    2\n",
       "1781500435    2\n",
       "             ..\n",
       "7812801125    1\n",
       "4364700875    1\n",
       "3021059276    1\n",
       "880000205     1\n",
       "1777500160    1\n",
       "Name: id, Length: 21420, dtype: int64"
      ]
     },
     "execution_count": 8,
     "metadata": {},
     "output_type": "execute_result"
    }
   ],
   "source": [
    "df['id'].value_counts()"
   ]
  },
  {
   "cell_type": "code",
   "execution_count": 9,
   "metadata": {},
   "outputs": [
    {
     "data": {
      "text/plain": [
       "6/23/2014     142\n",
       "6/26/2014     131\n",
       "6/25/2014     131\n",
       "7/8/2014      127\n",
       "4/27/2015     126\n",
       "             ... \n",
       "11/30/2014      1\n",
       "1/31/2015       1\n",
       "7/27/2014       1\n",
       "2/15/2015       1\n",
       "5/24/2015       1\n",
       "Name: date, Length: 372, dtype: int64"
      ]
     },
     "execution_count": 9,
     "metadata": {},
     "output_type": "execute_result"
    }
   ],
   "source": [
    "df['date'].value_counts()"
   ]
  },
  {
   "cell_type": "code",
   "execution_count": 10,
   "metadata": {},
   "outputs": [
    {
     "data": {
      "text/plain": [
       "350000.0    172\n",
       "450000.0    172\n",
       "550000.0    159\n",
       "500000.0    152\n",
       "425000.0    150\n",
       "           ... \n",
       "870515.0      1\n",
       "336950.0      1\n",
       "386100.0      1\n",
       "176250.0      1\n",
       "884744.0      1\n",
       "Name: price, Length: 3622, dtype: int64"
      ]
     },
     "execution_count": 10,
     "metadata": {},
     "output_type": "execute_result"
    }
   ],
   "source": [
    "df['price'].value_counts()"
   ]
  },
  {
   "cell_type": "code",
   "execution_count": 11,
   "metadata": {},
   "outputs": [
    {
     "data": {
      "text/plain": [
       "3     9824\n",
       "4     6882\n",
       "2     2760\n",
       "5     1601\n",
       "6      272\n",
       "1      196\n",
       "7       38\n",
       "8       13\n",
       "9        6\n",
       "10       3\n",
       "11       1\n",
       "33       1\n",
       "Name: bedrooms, dtype: int64"
      ]
     },
     "execution_count": 11,
     "metadata": {},
     "output_type": "execute_result"
    }
   ],
   "source": [
    "df['bedrooms'].value_counts()"
   ]
  },
  {
   "cell_type": "code",
   "execution_count": 12,
   "metadata": {},
   "outputs": [
    {
     "data": {
      "text/plain": [
       "2.50    5377\n",
       "1.00    3851\n",
       "1.75    3048\n",
       "2.25    2047\n",
       "2.00    1930\n",
       "1.50    1445\n",
       "2.75    1185\n",
       "3.00     753\n",
       "3.50     731\n",
       "3.25     589\n",
       "3.75     155\n",
       "4.00     136\n",
       "4.50     100\n",
       "4.25      79\n",
       "0.75      71\n",
       "4.75      23\n",
       "5.00      21\n",
       "5.25      13\n",
       "5.50      10\n",
       "1.25       9\n",
       "6.00       6\n",
       "5.75       4\n",
       "0.50       4\n",
       "8.00       2\n",
       "6.25       2\n",
       "6.75       2\n",
       "6.50       2\n",
       "7.50       1\n",
       "7.75       1\n",
       "Name: bathrooms, dtype: int64"
      ]
     },
     "execution_count": 12,
     "metadata": {},
     "output_type": "execute_result"
    }
   ],
   "source": [
    "df['bathrooms'].value_counts()"
   ]
  },
  {
   "cell_type": "code",
   "execution_count": 13,
   "metadata": {},
   "outputs": [
    {
     "data": {
      "text/plain": [
       "1300    138\n",
       "1400    135\n",
       "1440    133\n",
       "1660    129\n",
       "1010    129\n",
       "       ... \n",
       "4970      1\n",
       "2905      1\n",
       "2793      1\n",
       "4810      1\n",
       "1975      1\n",
       "Name: sqft_living, Length: 1034, dtype: int64"
      ]
     },
     "execution_count": 13,
     "metadata": {},
     "output_type": "execute_result"
    }
   ],
   "source": [
    "#square footage of house living space\n",
    "df['sqft_living'].value_counts()"
   ]
  },
  {
   "cell_type": "code",
   "execution_count": 14,
   "metadata": {},
   "outputs": [
    {
     "data": {
      "text/plain": [
       "5000      358\n",
       "6000      290\n",
       "4000      251\n",
       "7200      220\n",
       "7500      119\n",
       "         ... \n",
       "1448        1\n",
       "38884       1\n",
       "17313       1\n",
       "35752       1\n",
       "315374      1\n",
       "Name: sqft_lot, Length: 9776, dtype: int64"
      ]
     },
     "execution_count": 14,
     "metadata": {},
     "output_type": "execute_result"
    }
   ],
   "source": [
    "#square footage of house lot\n",
    "df['sqft_lot'].value_counts()"
   ]
  },
  {
   "cell_type": "code",
   "execution_count": 15,
   "metadata": {},
   "outputs": [
    {
     "data": {
      "text/plain": [
       "1.0    10673\n",
       "2.0     8235\n",
       "1.5     1910\n",
       "3.0      611\n",
       "2.5      161\n",
       "3.5        7\n",
       "Name: floors, dtype: int64"
      ]
     },
     "execution_count": 15,
     "metadata": {},
     "output_type": "execute_result"
    }
   ],
   "source": [
    "df['floors'].value_counts()"
   ]
  },
  {
   "cell_type": "code",
   "execution_count": 16,
   "metadata": {},
   "outputs": [
    {
     "data": {
      "text/plain": [
       "NO     19075\n",
       "YES      146\n",
       "Name: waterfront, dtype: int64"
      ]
     },
     "execution_count": 16,
     "metadata": {},
     "output_type": "execute_result"
    }
   ],
   "source": [
    "#does this house have a waterfront?\n",
    "df['waterfront'].value_counts()"
   ]
  },
  {
   "cell_type": "code",
   "execution_count": 17,
   "metadata": {},
   "outputs": [
    {
     "data": {
      "text/plain": [
       "NONE         19422\n",
       "AVERAGE        957\n",
       "GOOD           508\n",
       "FAIR           330\n",
       "EXCELLENT      317\n",
       "Name: view, dtype: int64"
      ]
     },
     "execution_count": 17,
     "metadata": {},
     "output_type": "execute_result"
    }
   ],
   "source": [
    "#how well is the view from the house\n",
    "df['view'].value_counts()"
   ]
  },
  {
   "cell_type": "code",
   "execution_count": 18,
   "metadata": {},
   "outputs": [
    {
     "data": {
      "text/plain": [
       "Average      14020\n",
       "Good          5677\n",
       "Very Good     1701\n",
       "Fair           170\n",
       "Poor            29\n",
       "Name: condition, dtype: int64"
      ]
     },
     "execution_count": 18,
     "metadata": {},
     "output_type": "execute_result"
    }
   ],
   "source": [
    "df['condition'].value_counts()"
   ]
  },
  {
   "cell_type": "code",
   "execution_count": 19,
   "metadata": {},
   "outputs": [
    {
     "data": {
      "text/plain": [
       "9 Better         2615\n",
       "8 Good           6065\n",
       "7 Average        8974\n",
       "6 Low Average    2038\n",
       "5 Fair            242\n",
       "4 Low              27\n",
       "3 Poor              1\n",
       "13 Mansion         13\n",
       "12 Luxury          89\n",
       "11 Excellent      399\n",
       "10 Very Good     1134\n",
       "Name: grade, dtype: int64"
      ]
     },
     "execution_count": 19,
     "metadata": {},
     "output_type": "execute_result"
    }
   ],
   "source": [
    "#house grades from poor to mansion\n",
    "df['grade'].value_counts().sort_index(ascending = False)"
   ]
  },
  {
   "cell_type": "code",
   "execution_count": 20,
   "metadata": {},
   "outputs": [
    {
     "data": {
      "text/plain": [
       "1300    212\n",
       "1010    210\n",
       "1200    206\n",
       "1220    192\n",
       "1140    184\n",
       "       ... \n",
       "2601      1\n",
       "440       1\n",
       "2473      1\n",
       "2441      1\n",
       "1975      1\n",
       "Name: sqft_above, Length: 942, dtype: int64"
      ]
     },
     "execution_count": 20,
     "metadata": {},
     "output_type": "execute_result"
    }
   ],
   "source": [
    "df['sqft_above'].value_counts()"
   ]
  },
  {
   "cell_type": "code",
   "execution_count": 21,
   "metadata": {},
   "outputs": [
    {
     "data": {
      "text/plain": [
       "0.0       12826\n",
       "?           454\n",
       "600.0       217\n",
       "500.0       209\n",
       "700.0       208\n",
       "          ...  \n",
       "415.0         1\n",
       "1990.0        1\n",
       "266.0         1\n",
       "3480.0        1\n",
       "946.0         1\n",
       "Name: sqft_basement, Length: 304, dtype: int64"
      ]
     },
     "execution_count": 21,
     "metadata": {},
     "output_type": "execute_result"
    }
   ],
   "source": [
    "df['sqft_basement'].value_counts()"
   ]
  },
  {
   "cell_type": "code",
   "execution_count": 22,
   "metadata": {},
   "outputs": [
    {
     "data": {
      "text/plain": [
       "2014    559\n",
       "2006    453\n",
       "2005    450\n",
       "2004    433\n",
       "2003    420\n",
       "       ... \n",
       "1933     30\n",
       "1901     29\n",
       "1902     27\n",
       "1935     24\n",
       "1934     21\n",
       "Name: yr_built, Length: 116, dtype: int64"
      ]
     },
     "execution_count": 22,
     "metadata": {},
     "output_type": "execute_result"
    }
   ],
   "source": [
    "df['yr_built'].value_counts()"
   ]
  },
  {
   "cell_type": "code",
   "execution_count": 23,
   "metadata": {},
   "outputs": [
    {
     "data": {
      "text/plain": [
       "0.0       17011\n",
       "2014.0       73\n",
       "2003.0       31\n",
       "2013.0       31\n",
       "2007.0       30\n",
       "          ...  \n",
       "1946.0        1\n",
       "1959.0        1\n",
       "1971.0        1\n",
       "1951.0        1\n",
       "1954.0        1\n",
       "Name: yr_renovated, Length: 70, dtype: int64"
      ]
     },
     "execution_count": 23,
     "metadata": {},
     "output_type": "execute_result"
    }
   ],
   "source": [
    "#year house was renovated, if it was at all\n",
    "df['yr_renovated'].value_counts()"
   ]
  },
  {
   "cell_type": "code",
   "execution_count": 24,
   "metadata": {},
   "outputs": [
    {
     "data": {
      "text/plain": [
       "98103    602\n",
       "98038    589\n",
       "98115    583\n",
       "98052    574\n",
       "98117    553\n",
       "        ... \n",
       "98102    104\n",
       "98010    100\n",
       "98024     80\n",
       "98148     57\n",
       "98039     50\n",
       "Name: zipcode, Length: 70, dtype: int64"
      ]
     },
     "execution_count": 24,
     "metadata": {},
     "output_type": "execute_result"
    }
   ],
   "source": [
    "df['zipcode'].value_counts()"
   ]
  },
  {
   "cell_type": "code",
   "execution_count": 25,
   "metadata": {},
   "outputs": [
    {
     "data": {
      "text/plain": [
       "47.6846    17\n",
       "47.5322    17\n",
       "47.6624    17\n",
       "47.5491    17\n",
       "47.6886    16\n",
       "           ..\n",
       "47.3104     1\n",
       "47.4681     1\n",
       "47.2819     1\n",
       "47.6096     1\n",
       "47.4300     1\n",
       "Name: lat, Length: 5033, dtype: int64"
      ]
     },
     "execution_count": 25,
     "metadata": {},
     "output_type": "execute_result"
    }
   ],
   "source": [
    "#latitude of house\n",
    "df['lat'].value_counts()"
   ]
  },
  {
   "cell_type": "code",
   "execution_count": 26,
   "metadata": {},
   "outputs": [
    {
     "data": {
      "text/plain": [
       "-122.290    115\n",
       "-122.300    111\n",
       "-122.362    104\n",
       "-122.291    100\n",
       "-122.372     99\n",
       "           ... \n",
       "-121.803      1\n",
       "-121.711      1\n",
       "-122.454      1\n",
       "-121.835      1\n",
       "-121.849      1\n",
       "Name: long, Length: 751, dtype: int64"
      ]
     },
     "execution_count": 26,
     "metadata": {},
     "output_type": "execute_result"
    }
   ],
   "source": [
    "#longitude of house\n",
    "df['long'].value_counts()"
   ]
  },
  {
   "cell_type": "code",
   "execution_count": 27,
   "metadata": {},
   "outputs": [
    {
     "data": {
      "text/plain": [
       "1540    197\n",
       "1440    195\n",
       "1560    192\n",
       "1500    180\n",
       "1460    169\n",
       "       ... \n",
       "4890      1\n",
       "2873      1\n",
       "952       1\n",
       "3193      1\n",
       "2049      1\n",
       "Name: sqft_living15, Length: 777, dtype: int64"
      ]
     },
     "execution_count": 27,
     "metadata": {},
     "output_type": "execute_result"
    }
   ],
   "source": [
    "#square footage of living space for the 15 closest neighbors\n",
    "df['sqft_living15'].value_counts()"
   ]
  },
  {
   "cell_type": "code",
   "execution_count": 28,
   "metadata": {},
   "outputs": [
    {
     "data": {
      "text/plain": [
       "5000      427\n",
       "4000      356\n",
       "6000      288\n",
       "7200      210\n",
       "4800      145\n",
       "         ... \n",
       "11036       1\n",
       "8989        1\n",
       "871200      1\n",
       "809         1\n",
       "6147        1\n",
       "Name: sqft_lot15, Length: 8682, dtype: int64"
      ]
     },
     "execution_count": 28,
     "metadata": {},
     "output_type": "execute_result"
    }
   ],
   "source": [
    "#square footage of lot space for the 15 closest neighbors\n",
    "df['sqft_lot15'].value_counts()"
   ]
  },
  {
   "cell_type": "markdown",
   "metadata": {},
   "source": [
    "## Data Preparation\n",
    "\n",
    "Describe and justify the process for preparing the data for analysis.\n",
    "\n",
    "Questions to consider:\n",
    "\n",
    "- Were there variables you dropped or created?\n",
    "- How did you address missing values or outliers?\n",
    "- Why are these choices appropriate given the data and the business problem?"
   ]
  },
  {
   "cell_type": "code",
   "execution_count": 29,
   "metadata": {},
   "outputs": [
    {
     "data": {
      "text/html": [
       "<div>\n",
       "<style scoped>\n",
       "    .dataframe tbody tr th:only-of-type {\n",
       "        vertical-align: middle;\n",
       "    }\n",
       "\n",
       "    .dataframe tbody tr th {\n",
       "        vertical-align: top;\n",
       "    }\n",
       "\n",
       "    .dataframe thead th {\n",
       "        text-align: right;\n",
       "    }\n",
       "</style>\n",
       "<table border=\"1\" class=\"dataframe\">\n",
       "  <thead>\n",
       "    <tr style=\"text-align: right;\">\n",
       "      <th></th>\n",
       "      <th>id</th>\n",
       "      <th>date</th>\n",
       "      <th>price</th>\n",
       "      <th>bedrooms</th>\n",
       "      <th>bathrooms</th>\n",
       "      <th>sqft_living</th>\n",
       "      <th>sqft_lot</th>\n",
       "      <th>floors</th>\n",
       "      <th>waterfront</th>\n",
       "      <th>view</th>\n",
       "      <th>...</th>\n",
       "      <th>grade</th>\n",
       "      <th>sqft_above</th>\n",
       "      <th>sqft_basement</th>\n",
       "      <th>yr_built</th>\n",
       "      <th>yr_renovated</th>\n",
       "      <th>zipcode</th>\n",
       "      <th>lat</th>\n",
       "      <th>long</th>\n",
       "      <th>sqft_living15</th>\n",
       "      <th>sqft_lot15</th>\n",
       "    </tr>\n",
       "  </thead>\n",
       "  <tbody>\n",
       "    <tr>\n",
       "      <th>15856</th>\n",
       "      <td>2402100895</td>\n",
       "      <td>6/25/2014</td>\n",
       "      <td>640000.0</td>\n",
       "      <td>33</td>\n",
       "      <td>1.75</td>\n",
       "      <td>1620</td>\n",
       "      <td>6000</td>\n",
       "      <td>1.0</td>\n",
       "      <td>NO</td>\n",
       "      <td>NONE</td>\n",
       "      <td>...</td>\n",
       "      <td>7 Average</td>\n",
       "      <td>1040</td>\n",
       "      <td>580.0</td>\n",
       "      <td>1947</td>\n",
       "      <td>0.0</td>\n",
       "      <td>98103</td>\n",
       "      <td>47.6878</td>\n",
       "      <td>-122.331</td>\n",
       "      <td>1330</td>\n",
       "      <td>4700</td>\n",
       "    </tr>\n",
       "  </tbody>\n",
       "</table>\n",
       "<p>1 rows × 21 columns</p>\n",
       "</div>"
      ],
      "text/plain": [
       "               id       date     price  bedrooms  bathrooms  sqft_living  \\\n",
       "15856  2402100895  6/25/2014  640000.0        33       1.75         1620   \n",
       "\n",
       "       sqft_lot  floors waterfront  view  ...      grade sqft_above  \\\n",
       "15856      6000     1.0         NO  NONE  ...  7 Average       1040   \n",
       "\n",
       "       sqft_basement yr_built  yr_renovated  zipcode      lat     long  \\\n",
       "15856          580.0     1947           0.0    98103  47.6878 -122.331   \n",
       "\n",
       "       sqft_living15  sqft_lot15  \n",
       "15856           1330        4700  \n",
       "\n",
       "[1 rows x 21 columns]"
      ]
     },
     "execution_count": 29,
     "metadata": {},
     "output_type": "execute_result"
    }
   ],
   "source": [
    "df[df['bedrooms']==33]"
   ]
  },
  {
   "cell_type": "code",
   "execution_count": 30,
   "metadata": {},
   "outputs": [],
   "source": [
    "#Replace 33 bedrooms with 3 bedrooms, since 3 is the mean for bedroom count in this dataset\n",
    "#We suspect this was a typing error when entering the home data\n",
    "df['bedrooms'].replace(33, 3, inplace=True)"
   ]
  },
  {
   "cell_type": "code",
   "execution_count": 31,
   "metadata": {},
   "outputs": [
    {
     "data": {
      "text/html": [
       "<div>\n",
       "<style scoped>\n",
       "    .dataframe tbody tr th:only-of-type {\n",
       "        vertical-align: middle;\n",
       "    }\n",
       "\n",
       "    .dataframe tbody tr th {\n",
       "        vertical-align: top;\n",
       "    }\n",
       "\n",
       "    .dataframe thead th {\n",
       "        text-align: right;\n",
       "    }\n",
       "</style>\n",
       "<table border=\"1\" class=\"dataframe\">\n",
       "  <thead>\n",
       "    <tr style=\"text-align: right;\">\n",
       "      <th></th>\n",
       "      <th>id</th>\n",
       "      <th>date</th>\n",
       "      <th>price</th>\n",
       "      <th>bedrooms</th>\n",
       "      <th>bathrooms</th>\n",
       "      <th>sqft_living</th>\n",
       "      <th>sqft_lot</th>\n",
       "      <th>floors</th>\n",
       "      <th>waterfront</th>\n",
       "      <th>view</th>\n",
       "      <th>...</th>\n",
       "      <th>grade</th>\n",
       "      <th>sqft_above</th>\n",
       "      <th>sqft_basement</th>\n",
       "      <th>yr_built</th>\n",
       "      <th>yr_renovated</th>\n",
       "      <th>zipcode</th>\n",
       "      <th>lat</th>\n",
       "      <th>long</th>\n",
       "      <th>sqft_living15</th>\n",
       "      <th>sqft_lot15</th>\n",
       "    </tr>\n",
       "  </thead>\n",
       "  <tbody>\n",
       "    <tr>\n",
       "      <th>6</th>\n",
       "      <td>1321400060</td>\n",
       "      <td>6/27/2014</td>\n",
       "      <td>257500.0</td>\n",
       "      <td>3</td>\n",
       "      <td>2.25</td>\n",
       "      <td>1715</td>\n",
       "      <td>6819</td>\n",
       "      <td>2.0</td>\n",
       "      <td>NO</td>\n",
       "      <td>NONE</td>\n",
       "      <td>...</td>\n",
       "      <td>7 Average</td>\n",
       "      <td>1715</td>\n",
       "      <td>?</td>\n",
       "      <td>1995</td>\n",
       "      <td>0.0</td>\n",
       "      <td>98003</td>\n",
       "      <td>47.3097</td>\n",
       "      <td>-122.327</td>\n",
       "      <td>2238</td>\n",
       "      <td>6819</td>\n",
       "    </tr>\n",
       "    <tr>\n",
       "      <th>18</th>\n",
       "      <td>16000397</td>\n",
       "      <td>12/5/2014</td>\n",
       "      <td>189000.0</td>\n",
       "      <td>2</td>\n",
       "      <td>1.00</td>\n",
       "      <td>1200</td>\n",
       "      <td>9850</td>\n",
       "      <td>1.0</td>\n",
       "      <td>NO</td>\n",
       "      <td>NONE</td>\n",
       "      <td>...</td>\n",
       "      <td>7 Average</td>\n",
       "      <td>1200</td>\n",
       "      <td>?</td>\n",
       "      <td>1921</td>\n",
       "      <td>0.0</td>\n",
       "      <td>98002</td>\n",
       "      <td>47.3089</td>\n",
       "      <td>-122.210</td>\n",
       "      <td>1060</td>\n",
       "      <td>5095</td>\n",
       "    </tr>\n",
       "    <tr>\n",
       "      <th>42</th>\n",
       "      <td>7203220400</td>\n",
       "      <td>7/7/2014</td>\n",
       "      <td>861990.0</td>\n",
       "      <td>5</td>\n",
       "      <td>2.75</td>\n",
       "      <td>3595</td>\n",
       "      <td>5639</td>\n",
       "      <td>2.0</td>\n",
       "      <td>NO</td>\n",
       "      <td>NONE</td>\n",
       "      <td>...</td>\n",
       "      <td>9 Better</td>\n",
       "      <td>3595</td>\n",
       "      <td>?</td>\n",
       "      <td>2014</td>\n",
       "      <td>0.0</td>\n",
       "      <td>98053</td>\n",
       "      <td>47.6848</td>\n",
       "      <td>-122.016</td>\n",
       "      <td>3625</td>\n",
       "      <td>5639</td>\n",
       "    </tr>\n",
       "    <tr>\n",
       "      <th>79</th>\n",
       "      <td>1531000030</td>\n",
       "      <td>3/23/2015</td>\n",
       "      <td>720000.0</td>\n",
       "      <td>4</td>\n",
       "      <td>2.50</td>\n",
       "      <td>3450</td>\n",
       "      <td>39683</td>\n",
       "      <td>2.0</td>\n",
       "      <td>NO</td>\n",
       "      <td>NONE</td>\n",
       "      <td>...</td>\n",
       "      <td>10 Very Good</td>\n",
       "      <td>3450</td>\n",
       "      <td>?</td>\n",
       "      <td>2002</td>\n",
       "      <td>0.0</td>\n",
       "      <td>98010</td>\n",
       "      <td>47.3420</td>\n",
       "      <td>-122.025</td>\n",
       "      <td>3350</td>\n",
       "      <td>39750</td>\n",
       "    </tr>\n",
       "    <tr>\n",
       "      <th>112</th>\n",
       "      <td>2525310310</td>\n",
       "      <td>9/16/2014</td>\n",
       "      <td>272500.0</td>\n",
       "      <td>3</td>\n",
       "      <td>1.75</td>\n",
       "      <td>1540</td>\n",
       "      <td>12600</td>\n",
       "      <td>1.0</td>\n",
       "      <td>NO</td>\n",
       "      <td>NONE</td>\n",
       "      <td>...</td>\n",
       "      <td>7 Average</td>\n",
       "      <td>1160</td>\n",
       "      <td>?</td>\n",
       "      <td>1980</td>\n",
       "      <td>0.0</td>\n",
       "      <td>98038</td>\n",
       "      <td>47.3624</td>\n",
       "      <td>-122.031</td>\n",
       "      <td>1540</td>\n",
       "      <td>11656</td>\n",
       "    </tr>\n",
       "    <tr>\n",
       "      <th>...</th>\n",
       "      <td>...</td>\n",
       "      <td>...</td>\n",
       "      <td>...</td>\n",
       "      <td>...</td>\n",
       "      <td>...</td>\n",
       "      <td>...</td>\n",
       "      <td>...</td>\n",
       "      <td>...</td>\n",
       "      <td>...</td>\n",
       "      <td>...</td>\n",
       "      <td>...</td>\n",
       "      <td>...</td>\n",
       "      <td>...</td>\n",
       "      <td>...</td>\n",
       "      <td>...</td>\n",
       "      <td>...</td>\n",
       "      <td>...</td>\n",
       "      <td>...</td>\n",
       "      <td>...</td>\n",
       "      <td>...</td>\n",
       "      <td>...</td>\n",
       "    </tr>\n",
       "    <tr>\n",
       "      <th>21442</th>\n",
       "      <td>3226049565</td>\n",
       "      <td>7/11/2014</td>\n",
       "      <td>504600.0</td>\n",
       "      <td>5</td>\n",
       "      <td>3.00</td>\n",
       "      <td>2360</td>\n",
       "      <td>5000</td>\n",
       "      <td>1.0</td>\n",
       "      <td>NO</td>\n",
       "      <td>NONE</td>\n",
       "      <td>...</td>\n",
       "      <td>7 Average</td>\n",
       "      <td>1390</td>\n",
       "      <td>?</td>\n",
       "      <td>2008</td>\n",
       "      <td>0.0</td>\n",
       "      <td>98103</td>\n",
       "      <td>47.6931</td>\n",
       "      <td>-122.330</td>\n",
       "      <td>2180</td>\n",
       "      <td>5009</td>\n",
       "    </tr>\n",
       "    <tr>\n",
       "      <th>21447</th>\n",
       "      <td>1760650900</td>\n",
       "      <td>7/21/2014</td>\n",
       "      <td>337500.0</td>\n",
       "      <td>4</td>\n",
       "      <td>2.50</td>\n",
       "      <td>2330</td>\n",
       "      <td>4907</td>\n",
       "      <td>2.0</td>\n",
       "      <td>NO</td>\n",
       "      <td>NONE</td>\n",
       "      <td>...</td>\n",
       "      <td>7 Average</td>\n",
       "      <td>2330</td>\n",
       "      <td>?</td>\n",
       "      <td>2013</td>\n",
       "      <td>NaN</td>\n",
       "      <td>98042</td>\n",
       "      <td>47.3590</td>\n",
       "      <td>-122.081</td>\n",
       "      <td>2300</td>\n",
       "      <td>3836</td>\n",
       "    </tr>\n",
       "    <tr>\n",
       "      <th>21473</th>\n",
       "      <td>6021503707</td>\n",
       "      <td>1/20/2015</td>\n",
       "      <td>352500.0</td>\n",
       "      <td>2</td>\n",
       "      <td>2.50</td>\n",
       "      <td>980</td>\n",
       "      <td>1010</td>\n",
       "      <td>3.0</td>\n",
       "      <td>NaN</td>\n",
       "      <td>NONE</td>\n",
       "      <td>...</td>\n",
       "      <td>8 Good</td>\n",
       "      <td>980</td>\n",
       "      <td>?</td>\n",
       "      <td>2008</td>\n",
       "      <td>0.0</td>\n",
       "      <td>98117</td>\n",
       "      <td>47.6844</td>\n",
       "      <td>-122.387</td>\n",
       "      <td>980</td>\n",
       "      <td>1023</td>\n",
       "    </tr>\n",
       "    <tr>\n",
       "      <th>21519</th>\n",
       "      <td>2909310100</td>\n",
       "      <td>10/15/2014</td>\n",
       "      <td>332000.0</td>\n",
       "      <td>4</td>\n",
       "      <td>2.50</td>\n",
       "      <td>2380</td>\n",
       "      <td>5737</td>\n",
       "      <td>2.0</td>\n",
       "      <td>NO</td>\n",
       "      <td>NONE</td>\n",
       "      <td>...</td>\n",
       "      <td>7 Average</td>\n",
       "      <td>2380</td>\n",
       "      <td>?</td>\n",
       "      <td>2010</td>\n",
       "      <td>0.0</td>\n",
       "      <td>98023</td>\n",
       "      <td>47.2815</td>\n",
       "      <td>-122.356</td>\n",
       "      <td>2380</td>\n",
       "      <td>5396</td>\n",
       "    </tr>\n",
       "    <tr>\n",
       "      <th>21581</th>\n",
       "      <td>191100405</td>\n",
       "      <td>4/21/2015</td>\n",
       "      <td>1580000.0</td>\n",
       "      <td>4</td>\n",
       "      <td>3.25</td>\n",
       "      <td>3410</td>\n",
       "      <td>10125</td>\n",
       "      <td>2.0</td>\n",
       "      <td>NO</td>\n",
       "      <td>NONE</td>\n",
       "      <td>...</td>\n",
       "      <td>10 Very Good</td>\n",
       "      <td>3410</td>\n",
       "      <td>?</td>\n",
       "      <td>2007</td>\n",
       "      <td>NaN</td>\n",
       "      <td>98040</td>\n",
       "      <td>47.5653</td>\n",
       "      <td>-122.223</td>\n",
       "      <td>2290</td>\n",
       "      <td>10125</td>\n",
       "    </tr>\n",
       "  </tbody>\n",
       "</table>\n",
       "<p>454 rows × 21 columns</p>\n",
       "</div>"
      ],
      "text/plain": [
       "               id        date      price  bedrooms  bathrooms  sqft_living  \\\n",
       "6      1321400060   6/27/2014   257500.0         3       2.25         1715   \n",
       "18       16000397   12/5/2014   189000.0         2       1.00         1200   \n",
       "42     7203220400    7/7/2014   861990.0         5       2.75         3595   \n",
       "79     1531000030   3/23/2015   720000.0         4       2.50         3450   \n",
       "112    2525310310   9/16/2014   272500.0         3       1.75         1540   \n",
       "...           ...         ...        ...       ...        ...          ...   \n",
       "21442  3226049565   7/11/2014   504600.0         5       3.00         2360   \n",
       "21447  1760650900   7/21/2014   337500.0         4       2.50         2330   \n",
       "21473  6021503707   1/20/2015   352500.0         2       2.50          980   \n",
       "21519  2909310100  10/15/2014   332000.0         4       2.50         2380   \n",
       "21581   191100405   4/21/2015  1580000.0         4       3.25         3410   \n",
       "\n",
       "       sqft_lot  floors waterfront  view  ...         grade sqft_above  \\\n",
       "6          6819     2.0         NO  NONE  ...     7 Average       1715   \n",
       "18         9850     1.0         NO  NONE  ...     7 Average       1200   \n",
       "42         5639     2.0         NO  NONE  ...      9 Better       3595   \n",
       "79        39683     2.0         NO  NONE  ...  10 Very Good       3450   \n",
       "112       12600     1.0         NO  NONE  ...     7 Average       1160   \n",
       "...         ...     ...        ...   ...  ...           ...        ...   \n",
       "21442      5000     1.0         NO  NONE  ...     7 Average       1390   \n",
       "21447      4907     2.0         NO  NONE  ...     7 Average       2330   \n",
       "21473      1010     3.0        NaN  NONE  ...        8 Good        980   \n",
       "21519      5737     2.0         NO  NONE  ...     7 Average       2380   \n",
       "21581     10125     2.0         NO  NONE  ...  10 Very Good       3410   \n",
       "\n",
       "       sqft_basement yr_built  yr_renovated  zipcode      lat     long  \\\n",
       "6                  ?     1995           0.0    98003  47.3097 -122.327   \n",
       "18                 ?     1921           0.0    98002  47.3089 -122.210   \n",
       "42                 ?     2014           0.0    98053  47.6848 -122.016   \n",
       "79                 ?     2002           0.0    98010  47.3420 -122.025   \n",
       "112                ?     1980           0.0    98038  47.3624 -122.031   \n",
       "...              ...      ...           ...      ...      ...      ...   \n",
       "21442              ?     2008           0.0    98103  47.6931 -122.330   \n",
       "21447              ?     2013           NaN    98042  47.3590 -122.081   \n",
       "21473              ?     2008           0.0    98117  47.6844 -122.387   \n",
       "21519              ?     2010           0.0    98023  47.2815 -122.356   \n",
       "21581              ?     2007           NaN    98040  47.5653 -122.223   \n",
       "\n",
       "       sqft_living15  sqft_lot15  \n",
       "6               2238        6819  \n",
       "18              1060        5095  \n",
       "42              3625        5639  \n",
       "79              3350       39750  \n",
       "112             1540       11656  \n",
       "...              ...         ...  \n",
       "21442           2180        5009  \n",
       "21447           2300        3836  \n",
       "21473            980        1023  \n",
       "21519           2380        5396  \n",
       "21581           2290       10125  \n",
       "\n",
       "[454 rows x 21 columns]"
      ]
     },
     "execution_count": 31,
     "metadata": {},
     "output_type": "execute_result"
    }
   ],
   "source": [
    "df[df['sqft_basement']=='?']"
   ]
  },
  {
   "cell_type": "code",
   "execution_count": 32,
   "metadata": {},
   "outputs": [],
   "source": [
    "#Change ? entries for sqft_basement\n",
    "#This is done by subtracting the sqft_above from sqft_living\n",
    "df['sqft_basement_diff']= df['sqft_living'] - df['sqft_above']\n",
    "df.drop('sqft_basement', axis = 1, inplace = True)"
   ]
  },
  {
   "cell_type": "markdown",
   "metadata": {},
   "source": [
    "#### Check null values in the dataframe"
   ]
  },
  {
   "cell_type": "code",
   "execution_count": 33,
   "metadata": {},
   "outputs": [
    {
     "data": {
      "text/plain": [
       "id                       0\n",
       "date                     0\n",
       "price                    0\n",
       "bedrooms                 0\n",
       "bathrooms                0\n",
       "sqft_living              0\n",
       "sqft_lot                 0\n",
       "floors                   0\n",
       "waterfront            2376\n",
       "view                    63\n",
       "condition                0\n",
       "grade                    0\n",
       "sqft_above               0\n",
       "yr_built                 0\n",
       "yr_renovated          3842\n",
       "zipcode                  0\n",
       "lat                      0\n",
       "long                     0\n",
       "sqft_living15            0\n",
       "sqft_lot15               0\n",
       "sqft_basement_diff       0\n",
       "dtype: int64"
      ]
     },
     "execution_count": 33,
     "metadata": {},
     "output_type": "execute_result"
    }
   ],
   "source": [
    "df.isna().sum()"
   ]
  },
  {
   "cell_type": "code",
   "execution_count": 34,
   "metadata": {},
   "outputs": [],
   "source": [
    "#Change the entries in waterfront from YES/NO to 1/0\n",
    "df['waterfront'].replace(\"YES\", 1, inplace=True)\n",
    "df['waterfront'].replace(\"NO\", 0, inplace=True)\n",
    "df['waterfront'].fillna(value=0,inplace=True)"
   ]
  },
  {
   "cell_type": "code",
   "execution_count": 35,
   "metadata": {},
   "outputs": [],
   "source": [
    "#Change the null entries for yr_renovated to 0\n",
    "df['yr_renovated'].fillna(value=0,inplace=True)"
   ]
  },
  {
   "cell_type": "code",
   "execution_count": 36,
   "metadata": {},
   "outputs": [],
   "source": [
    "#Change the null values for view to NONE\n",
    "df['view'].fillna(value='NONE',inplace=True)"
   ]
  },
  {
   "cell_type": "code",
   "execution_count": 37,
   "metadata": {},
   "outputs": [],
   "source": [
    "#Add a column that calculates the distance from the downtown\n",
    "distance_data = []\n",
    "for i in df.index:\n",
    "    location = (df.loc[i]['lat'],df.loc[i]['long'])\n",
    "    downtown = (47.6050, -122.3344)\n",
    "    dist = distance.distance(location, downtown).miles\n",
    "    distance_data.append(dist)\n",
    "df['distance'] = distance_data"
   ]
  },
  {
   "cell_type": "code",
   "execution_count": 38,
   "metadata": {},
   "outputs": [
    {
     "name": "stdout",
     "output_type": "stream",
     "text": [
      "<class 'pandas.core.frame.DataFrame'>\n",
      "RangeIndex: 21597 entries, 0 to 21596\n",
      "Data columns (total 23 columns):\n",
      " #   Column              Non-Null Count  Dtype  \n",
      "---  ------              --------------  -----  \n",
      " 0   id                  21597 non-null  int64  \n",
      " 1   date                21597 non-null  object \n",
      " 2   price               21597 non-null  float64\n",
      " 3   bedrooms            21597 non-null  int64  \n",
      " 4   bathrooms           21597 non-null  float64\n",
      " 5   sqft_living         21597 non-null  int64  \n",
      " 6   sqft_lot            21597 non-null  int64  \n",
      " 7   floors              21597 non-null  float64\n",
      " 8   waterfront          21597 non-null  float64\n",
      " 9   view                21597 non-null  object \n",
      " 10  condition           21597 non-null  object \n",
      " 11  grade               21597 non-null  object \n",
      " 12  sqft_above          21597 non-null  int64  \n",
      " 13  yr_built            21597 non-null  int64  \n",
      " 14  yr_renovated        21597 non-null  float64\n",
      " 15  zipcode             21597 non-null  int64  \n",
      " 16  lat                 21597 non-null  float64\n",
      " 17  long                21597 non-null  float64\n",
      " 18  sqft_living15       21597 non-null  int64  \n",
      " 19  sqft_lot15          21597 non-null  int64  \n",
      " 20  sqft_basement_diff  21597 non-null  int64  \n",
      " 21  distance            21597 non-null  float64\n",
      " 22  house_age           21597 non-null  int64  \n",
      "dtypes: float64(8), int64(11), object(4)\n",
      "memory usage: 3.8+ MB\n"
     ]
    }
   ],
   "source": [
    "#for new 'house_age' column:\n",
    "df['house_age'] = [2016]*len(df['yr_built']) - df['yr_built']\n",
    "df.info()"
   ]
  },
  {
   "cell_type": "code",
   "execution_count": 39,
   "metadata": {},
   "outputs": [
    {
     "data": {
      "text/plain": [
       "id                    0\n",
       "date                  0\n",
       "price                 0\n",
       "bedrooms              0\n",
       "bathrooms             0\n",
       "sqft_living           0\n",
       "sqft_lot              0\n",
       "floors                0\n",
       "waterfront            0\n",
       "view                  0\n",
       "condition             0\n",
       "grade                 0\n",
       "sqft_above            0\n",
       "yr_built              0\n",
       "yr_renovated          0\n",
       "zipcode               0\n",
       "lat                   0\n",
       "long                  0\n",
       "sqft_living15         0\n",
       "sqft_lot15            0\n",
       "sqft_basement_diff    0\n",
       "distance              0\n",
       "house_age             0\n",
       "dtype: int64"
      ]
     },
     "execution_count": 39,
     "metadata": {},
     "output_type": "execute_result"
    }
   ],
   "source": [
    "df.isna().sum()"
   ]
  },
  {
   "cell_type": "code",
   "execution_count": 40,
   "metadata": {},
   "outputs": [
    {
     "name": "stdout",
     "output_type": "stream",
     "text": [
      "<class 'pandas.core.frame.DataFrame'>\n",
      "RangeIndex: 21597 entries, 0 to 21596\n",
      "Data columns (total 23 columns):\n",
      " #   Column              Non-Null Count  Dtype  \n",
      "---  ------              --------------  -----  \n",
      " 0   id                  21597 non-null  int64  \n",
      " 1   date                21597 non-null  object \n",
      " 2   price               21597 non-null  float64\n",
      " 3   bedrooms            21597 non-null  int64  \n",
      " 4   bathrooms           21597 non-null  float64\n",
      " 5   sqft_living         21597 non-null  int64  \n",
      " 6   sqft_lot            21597 non-null  int64  \n",
      " 7   floors              21597 non-null  float64\n",
      " 8   waterfront          21597 non-null  float64\n",
      " 9   view                21597 non-null  object \n",
      " 10  condition           21597 non-null  object \n",
      " 11  grade               21597 non-null  object \n",
      " 12  sqft_above          21597 non-null  int64  \n",
      " 13  yr_built            21597 non-null  int64  \n",
      " 14  yr_renovated        21597 non-null  float64\n",
      " 15  zipcode             21597 non-null  int64  \n",
      " 16  lat                 21597 non-null  float64\n",
      " 17  long                21597 non-null  float64\n",
      " 18  sqft_living15       21597 non-null  int64  \n",
      " 19  sqft_lot15          21597 non-null  int64  \n",
      " 20  sqft_basement_diff  21597 non-null  int64  \n",
      " 21  distance            21597 non-null  float64\n",
      " 22  house_age           21597 non-null  int64  \n",
      "dtypes: float64(8), int64(11), object(4)\n",
      "memory usage: 3.8+ MB\n"
     ]
    }
   ],
   "source": [
    "df.info()"
   ]
  },
  {
   "cell_type": "code",
   "execution_count": 41,
   "metadata": {
    "scrolled": true
   },
   "outputs": [
    {
     "data": {
      "text/html": [
       "<div>\n",
       "<style scoped>\n",
       "    .dataframe tbody tr th:only-of-type {\n",
       "        vertical-align: middle;\n",
       "    }\n",
       "\n",
       "    .dataframe tbody tr th {\n",
       "        vertical-align: top;\n",
       "    }\n",
       "\n",
       "    .dataframe thead th {\n",
       "        text-align: right;\n",
       "    }\n",
       "</style>\n",
       "<table border=\"1\" class=\"dataframe\">\n",
       "  <thead>\n",
       "    <tr style=\"text-align: right;\">\n",
       "      <th></th>\n",
       "      <th>date</th>\n",
       "      <th>view</th>\n",
       "      <th>condition</th>\n",
       "      <th>grade</th>\n",
       "    </tr>\n",
       "  </thead>\n",
       "  <tbody>\n",
       "    <tr>\n",
       "      <th>0</th>\n",
       "      <td>10/13/2014</td>\n",
       "      <td>NONE</td>\n",
       "      <td>Average</td>\n",
       "      <td>7 Average</td>\n",
       "    </tr>\n",
       "    <tr>\n",
       "      <th>1</th>\n",
       "      <td>12/9/2014</td>\n",
       "      <td>NONE</td>\n",
       "      <td>Average</td>\n",
       "      <td>7 Average</td>\n",
       "    </tr>\n",
       "    <tr>\n",
       "      <th>2</th>\n",
       "      <td>2/25/2015</td>\n",
       "      <td>NONE</td>\n",
       "      <td>Average</td>\n",
       "      <td>6 Low Average</td>\n",
       "    </tr>\n",
       "    <tr>\n",
       "      <th>3</th>\n",
       "      <td>12/9/2014</td>\n",
       "      <td>NONE</td>\n",
       "      <td>Very Good</td>\n",
       "      <td>7 Average</td>\n",
       "    </tr>\n",
       "    <tr>\n",
       "      <th>4</th>\n",
       "      <td>2/18/2015</td>\n",
       "      <td>NONE</td>\n",
       "      <td>Average</td>\n",
       "      <td>8 Good</td>\n",
       "    </tr>\n",
       "    <tr>\n",
       "      <th>...</th>\n",
       "      <td>...</td>\n",
       "      <td>...</td>\n",
       "      <td>...</td>\n",
       "      <td>...</td>\n",
       "    </tr>\n",
       "    <tr>\n",
       "      <th>21592</th>\n",
       "      <td>5/21/2014</td>\n",
       "      <td>NONE</td>\n",
       "      <td>Average</td>\n",
       "      <td>8 Good</td>\n",
       "    </tr>\n",
       "    <tr>\n",
       "      <th>21593</th>\n",
       "      <td>2/23/2015</td>\n",
       "      <td>NONE</td>\n",
       "      <td>Average</td>\n",
       "      <td>8 Good</td>\n",
       "    </tr>\n",
       "    <tr>\n",
       "      <th>21594</th>\n",
       "      <td>6/23/2014</td>\n",
       "      <td>NONE</td>\n",
       "      <td>Average</td>\n",
       "      <td>7 Average</td>\n",
       "    </tr>\n",
       "    <tr>\n",
       "      <th>21595</th>\n",
       "      <td>1/16/2015</td>\n",
       "      <td>NONE</td>\n",
       "      <td>Average</td>\n",
       "      <td>8 Good</td>\n",
       "    </tr>\n",
       "    <tr>\n",
       "      <th>21596</th>\n",
       "      <td>10/15/2014</td>\n",
       "      <td>NONE</td>\n",
       "      <td>Average</td>\n",
       "      <td>7 Average</td>\n",
       "    </tr>\n",
       "  </tbody>\n",
       "</table>\n",
       "<p>21597 rows × 4 columns</p>\n",
       "</div>"
      ],
      "text/plain": [
       "             date  view  condition          grade\n",
       "0      10/13/2014  NONE    Average      7 Average\n",
       "1       12/9/2014  NONE    Average      7 Average\n",
       "2       2/25/2015  NONE    Average  6 Low Average\n",
       "3       12/9/2014  NONE  Very Good      7 Average\n",
       "4       2/18/2015  NONE    Average         8 Good\n",
       "...           ...   ...        ...            ...\n",
       "21592   5/21/2014  NONE    Average         8 Good\n",
       "21593   2/23/2015  NONE    Average         8 Good\n",
       "21594   6/23/2014  NONE    Average      7 Average\n",
       "21595   1/16/2015  NONE    Average         8 Good\n",
       "21596  10/15/2014  NONE    Average      7 Average\n",
       "\n",
       "[21597 rows x 4 columns]"
      ]
     },
     "execution_count": 41,
     "metadata": {},
     "output_type": "execute_result"
    }
   ],
   "source": [
    "df.select_dtypes(include = \"object\")"
   ]
  },
  {
   "cell_type": "code",
   "execution_count": 42,
   "metadata": {},
   "outputs": [
    {
     "data": {
      "text/html": [
       "<div>\n",
       "<style scoped>\n",
       "    .dataframe tbody tr th:only-of-type {\n",
       "        vertical-align: middle;\n",
       "    }\n",
       "\n",
       "    .dataframe tbody tr th {\n",
       "        vertical-align: top;\n",
       "    }\n",
       "\n",
       "    .dataframe thead th {\n",
       "        text-align: right;\n",
       "    }\n",
       "</style>\n",
       "<table border=\"1\" class=\"dataframe\">\n",
       "  <thead>\n",
       "    <tr style=\"text-align: right;\">\n",
       "      <th></th>\n",
       "      <th>date</th>\n",
       "      <th>view</th>\n",
       "      <th>condition</th>\n",
       "      <th>grade</th>\n",
       "    </tr>\n",
       "  </thead>\n",
       "  <tbody>\n",
       "    <tr>\n",
       "      <th>count</th>\n",
       "      <td>21597</td>\n",
       "      <td>21597</td>\n",
       "      <td>21597</td>\n",
       "      <td>21597</td>\n",
       "    </tr>\n",
       "    <tr>\n",
       "      <th>unique</th>\n",
       "      <td>372</td>\n",
       "      <td>5</td>\n",
       "      <td>5</td>\n",
       "      <td>11</td>\n",
       "    </tr>\n",
       "    <tr>\n",
       "      <th>top</th>\n",
       "      <td>6/23/2014</td>\n",
       "      <td>NONE</td>\n",
       "      <td>Average</td>\n",
       "      <td>7 Average</td>\n",
       "    </tr>\n",
       "    <tr>\n",
       "      <th>freq</th>\n",
       "      <td>142</td>\n",
       "      <td>19485</td>\n",
       "      <td>14020</td>\n",
       "      <td>8974</td>\n",
       "    </tr>\n",
       "  </tbody>\n",
       "</table>\n",
       "</div>"
      ],
      "text/plain": [
       "             date   view condition      grade\n",
       "count       21597  21597     21597      21597\n",
       "unique        372      5         5         11\n",
       "top     6/23/2014   NONE   Average  7 Average\n",
       "freq          142  19485     14020       8974"
      ]
     },
     "execution_count": 42,
     "metadata": {},
     "output_type": "execute_result"
    }
   ],
   "source": [
    "obj_column = [c for c in df.columns if df[c].dtype == 'object']\n",
    "df[obj_column].describe()"
   ]
  },
  {
   "cell_type": "code",
   "execution_count": 43,
   "metadata": {},
   "outputs": [
    {
     "data": {
      "text/plain": [
       "0      7\n",
       "1      7\n",
       "2      6\n",
       "3      7\n",
       "4      8\n",
       "5     11\n",
       "6      7\n",
       "7      7\n",
       "8      7\n",
       "9      7\n",
       "10     8\n",
       "11     7\n",
       "12     7\n",
       "13     7\n",
       "14     7\n",
       "15     9\n",
       "16     7\n",
       "17     7\n",
       "18     7\n",
       "19     7\n",
       "Name: grade_int, dtype: int64"
      ]
     },
     "execution_count": 43,
     "metadata": {},
     "output_type": "execute_result"
    }
   ],
   "source": [
    "df['grade_int'] = df['grade'].str[:2].astype(int)\n",
    "df['grade_int'].head(20)"
   ]
  },
  {
   "cell_type": "code",
   "execution_count": 44,
   "metadata": {},
   "outputs": [
    {
     "data": {
      "text/plain": [
       "OneHotEncoder(handle_unknown='ignore', sparse=False)"
      ]
     },
     "execution_count": 44,
     "metadata": {},
     "output_type": "execute_result"
    }
   ],
   "source": [
    "# Create a variable for view column\n",
    "view_col = df[[\"view\"]]\n",
    "condition_df = df[[\"condition\"]]\n",
    "#grade_df = df[['grade']]\n",
    "\n",
    "# Instantiate a OneHotEncoder with categories=\"auto\",\n",
    "# sparse=False, and handle_unknown=\"ignore\"\n",
    "ohe_view = OneHotEncoder(categories=\"auto\",sparse=False, handle_unknown=\"ignore\")\n",
    "ohe_cond = OneHotEncoder(categories=\"auto\", sparse=False, handle_unknown=\"ignore\")\n",
    "#ohe_grade = OneHotEncoder(categories = 'auto', sparse=False, handle_unknown ='ignore')\n",
    "\n",
    "# Fit the encoder on view_col\n",
    "ohe_view.fit(view_col)\n",
    "ohe_cond.fit(condition_df)\n",
    "#ohe_grade.fit(grade_df)"
   ]
  },
  {
   "cell_type": "code",
   "execution_count": 45,
   "metadata": {},
   "outputs": [],
   "source": [
    "# Transform view_col using the encoder and\n",
    "# assign the result to view_col_encoded\n",
    "view_col_encoded = ohe_view.transform(view_col)\n",
    "condition_df_encoded = ohe_cond.transform(condition_df)\n",
    "#grade_encoded = ohe_grade.transform(grade_df)"
   ]
  },
  {
   "cell_type": "code",
   "execution_count": 46,
   "metadata": {},
   "outputs": [],
   "source": [
    "# Make the transformed data into a dataframe\n",
    "view_col_encoded = pd.DataFrame(\n",
    "    # Pass in NumPy array\n",
    "    view_col_encoded,\n",
    "    # Set the column names to the categories found by OHE\n",
    "    columns=\"view_\"+ohe_view.categories_[0],\n",
    "    # Set the index to match df's index\n",
    "    index=df.index\n",
    ")\n",
    "condition_df_encoded = pd.DataFrame(\n",
    "    # Pass in NumPy array\n",
    "    condition_df_encoded,\n",
    "    # Set the column names to the categories found by OHE\n",
    "    columns=\"cond_\"+ohe_cond.categories_[0],\n",
    "    # Set the index to match df's index\n",
    "    index=df.index\n",
    ")\n",
    "#grade_encoded = pd.DataFrame(grade_encoded,columns=\"grade_\"+ohe_grade.categories_[0],index=df.index)"
   ]
  },
  {
   "cell_type": "code",
   "execution_count": 47,
   "metadata": {},
   "outputs": [
    {
     "data": {
      "text/html": [
       "<div>\n",
       "<style scoped>\n",
       "    .dataframe tbody tr th:only-of-type {\n",
       "        vertical-align: middle;\n",
       "    }\n",
       "\n",
       "    .dataframe tbody tr th {\n",
       "        vertical-align: top;\n",
       "    }\n",
       "\n",
       "    .dataframe thead th {\n",
       "        text-align: right;\n",
       "    }\n",
       "</style>\n",
       "<table border=\"1\" class=\"dataframe\">\n",
       "  <thead>\n",
       "    <tr style=\"text-align: right;\">\n",
       "      <th></th>\n",
       "      <th>id</th>\n",
       "      <th>date</th>\n",
       "      <th>price</th>\n",
       "      <th>bedrooms</th>\n",
       "      <th>bathrooms</th>\n",
       "      <th>sqft_living</th>\n",
       "      <th>sqft_lot</th>\n",
       "      <th>floors</th>\n",
       "      <th>waterfront</th>\n",
       "      <th>sqft_above</th>\n",
       "      <th>...</th>\n",
       "      <th>view_AVERAGE</th>\n",
       "      <th>view_EXCELLENT</th>\n",
       "      <th>view_FAIR</th>\n",
       "      <th>view_GOOD</th>\n",
       "      <th>view_NONE</th>\n",
       "      <th>cond_Average</th>\n",
       "      <th>cond_Fair</th>\n",
       "      <th>cond_Good</th>\n",
       "      <th>cond_Poor</th>\n",
       "      <th>cond_Very Good</th>\n",
       "    </tr>\n",
       "  </thead>\n",
       "  <tbody>\n",
       "    <tr>\n",
       "      <th>0</th>\n",
       "      <td>7129300520</td>\n",
       "      <td>10/13/2014</td>\n",
       "      <td>221900.0</td>\n",
       "      <td>3</td>\n",
       "      <td>1.00</td>\n",
       "      <td>1180</td>\n",
       "      <td>5650</td>\n",
       "      <td>1.0</td>\n",
       "      <td>0.0</td>\n",
       "      <td>1180</td>\n",
       "      <td>...</td>\n",
       "      <td>0.0</td>\n",
       "      <td>0.0</td>\n",
       "      <td>0.0</td>\n",
       "      <td>0.0</td>\n",
       "      <td>1.0</td>\n",
       "      <td>1.0</td>\n",
       "      <td>0.0</td>\n",
       "      <td>0.0</td>\n",
       "      <td>0.0</td>\n",
       "      <td>0.0</td>\n",
       "    </tr>\n",
       "    <tr>\n",
       "      <th>1</th>\n",
       "      <td>6414100192</td>\n",
       "      <td>12/9/2014</td>\n",
       "      <td>538000.0</td>\n",
       "      <td>3</td>\n",
       "      <td>2.25</td>\n",
       "      <td>2570</td>\n",
       "      <td>7242</td>\n",
       "      <td>2.0</td>\n",
       "      <td>0.0</td>\n",
       "      <td>2170</td>\n",
       "      <td>...</td>\n",
       "      <td>0.0</td>\n",
       "      <td>0.0</td>\n",
       "      <td>0.0</td>\n",
       "      <td>0.0</td>\n",
       "      <td>1.0</td>\n",
       "      <td>1.0</td>\n",
       "      <td>0.0</td>\n",
       "      <td>0.0</td>\n",
       "      <td>0.0</td>\n",
       "      <td>0.0</td>\n",
       "    </tr>\n",
       "    <tr>\n",
       "      <th>2</th>\n",
       "      <td>5631500400</td>\n",
       "      <td>2/25/2015</td>\n",
       "      <td>180000.0</td>\n",
       "      <td>2</td>\n",
       "      <td>1.00</td>\n",
       "      <td>770</td>\n",
       "      <td>10000</td>\n",
       "      <td>1.0</td>\n",
       "      <td>0.0</td>\n",
       "      <td>770</td>\n",
       "      <td>...</td>\n",
       "      <td>0.0</td>\n",
       "      <td>0.0</td>\n",
       "      <td>0.0</td>\n",
       "      <td>0.0</td>\n",
       "      <td>1.0</td>\n",
       "      <td>1.0</td>\n",
       "      <td>0.0</td>\n",
       "      <td>0.0</td>\n",
       "      <td>0.0</td>\n",
       "      <td>0.0</td>\n",
       "    </tr>\n",
       "    <tr>\n",
       "      <th>3</th>\n",
       "      <td>2487200875</td>\n",
       "      <td>12/9/2014</td>\n",
       "      <td>604000.0</td>\n",
       "      <td>4</td>\n",
       "      <td>3.00</td>\n",
       "      <td>1960</td>\n",
       "      <td>5000</td>\n",
       "      <td>1.0</td>\n",
       "      <td>0.0</td>\n",
       "      <td>1050</td>\n",
       "      <td>...</td>\n",
       "      <td>0.0</td>\n",
       "      <td>0.0</td>\n",
       "      <td>0.0</td>\n",
       "      <td>0.0</td>\n",
       "      <td>1.0</td>\n",
       "      <td>0.0</td>\n",
       "      <td>0.0</td>\n",
       "      <td>0.0</td>\n",
       "      <td>0.0</td>\n",
       "      <td>1.0</td>\n",
       "    </tr>\n",
       "    <tr>\n",
       "      <th>4</th>\n",
       "      <td>1954400510</td>\n",
       "      <td>2/18/2015</td>\n",
       "      <td>510000.0</td>\n",
       "      <td>3</td>\n",
       "      <td>2.00</td>\n",
       "      <td>1680</td>\n",
       "      <td>8080</td>\n",
       "      <td>1.0</td>\n",
       "      <td>0.0</td>\n",
       "      <td>1680</td>\n",
       "      <td>...</td>\n",
       "      <td>0.0</td>\n",
       "      <td>0.0</td>\n",
       "      <td>0.0</td>\n",
       "      <td>0.0</td>\n",
       "      <td>1.0</td>\n",
       "      <td>1.0</td>\n",
       "      <td>0.0</td>\n",
       "      <td>0.0</td>\n",
       "      <td>0.0</td>\n",
       "      <td>0.0</td>\n",
       "    </tr>\n",
       "  </tbody>\n",
       "</table>\n",
       "<p>5 rows × 31 columns</p>\n",
       "</div>"
      ],
      "text/plain": [
       "           id        date     price  bedrooms  bathrooms  sqft_living  \\\n",
       "0  7129300520  10/13/2014  221900.0         3       1.00         1180   \n",
       "1  6414100192   12/9/2014  538000.0         3       2.25         2570   \n",
       "2  5631500400   2/25/2015  180000.0         2       1.00          770   \n",
       "3  2487200875   12/9/2014  604000.0         4       3.00         1960   \n",
       "4  1954400510   2/18/2015  510000.0         3       2.00         1680   \n",
       "\n",
       "   sqft_lot  floors  waterfront  sqft_above  ...  view_AVERAGE  \\\n",
       "0      5650     1.0         0.0        1180  ...           0.0   \n",
       "1      7242     2.0         0.0        2170  ...           0.0   \n",
       "2     10000     1.0         0.0         770  ...           0.0   \n",
       "3      5000     1.0         0.0        1050  ...           0.0   \n",
       "4      8080     1.0         0.0        1680  ...           0.0   \n",
       "\n",
       "   view_EXCELLENT  view_FAIR  view_GOOD  view_NONE  cond_Average  cond_Fair  \\\n",
       "0             0.0        0.0        0.0        1.0           1.0        0.0   \n",
       "1             0.0        0.0        0.0        1.0           1.0        0.0   \n",
       "2             0.0        0.0        0.0        1.0           1.0        0.0   \n",
       "3             0.0        0.0        0.0        1.0           0.0        0.0   \n",
       "4             0.0        0.0        0.0        1.0           1.0        0.0   \n",
       "\n",
       "   cond_Good  cond_Poor  cond_Very Good  \n",
       "0        0.0        0.0             0.0  \n",
       "1        0.0        0.0             0.0  \n",
       "2        0.0        0.0             0.0  \n",
       "3        0.0        0.0             1.0  \n",
       "4        0.0        0.0             0.0  \n",
       "\n",
       "[5 rows x 31 columns]"
      ]
     },
     "execution_count": 47,
     "metadata": {},
     "output_type": "execute_result"
    }
   ],
   "source": [
    "# Drop original view column\n",
    "df.drop(\"view\", axis=1, inplace=True)\n",
    "df.drop(\"condition\", axis=1, inplace=True)\n",
    "df.drop(\"grade\", axis=1, inplace=True)\n",
    "\n",
    "# Concatenate the new dataframe with current df\n",
    "df = pd.concat([df, view_col_encoded, condition_df_encoded], axis=1)\n",
    "#df = pd.concat([df, view_col_encoded, condition_df_encoded, grade_encoded], axis=1)\n",
    "\n",
    "# Visually inspect df\n",
    "df.head()"
   ]
  },
  {
   "cell_type": "code",
   "execution_count": 48,
   "metadata": {},
   "outputs": [
    {
     "name": "stdout",
     "output_type": "stream",
     "text": [
      "<class 'pandas.core.frame.DataFrame'>\n",
      "RangeIndex: 21597 entries, 0 to 21596\n",
      "Data columns (total 31 columns):\n",
      " #   Column              Non-Null Count  Dtype  \n",
      "---  ------              --------------  -----  \n",
      " 0   id                  21597 non-null  int64  \n",
      " 1   date                21597 non-null  object \n",
      " 2   price               21597 non-null  float64\n",
      " 3   bedrooms            21597 non-null  int64  \n",
      " 4   bathrooms           21597 non-null  float64\n",
      " 5   sqft_living         21597 non-null  int64  \n",
      " 6   sqft_lot            21597 non-null  int64  \n",
      " 7   floors              21597 non-null  float64\n",
      " 8   waterfront          21597 non-null  float64\n",
      " 9   sqft_above          21597 non-null  int64  \n",
      " 10  yr_built            21597 non-null  int64  \n",
      " 11  yr_renovated        21597 non-null  float64\n",
      " 12  zipcode             21597 non-null  int64  \n",
      " 13  lat                 21597 non-null  float64\n",
      " 14  long                21597 non-null  float64\n",
      " 15  sqft_living15       21597 non-null  int64  \n",
      " 16  sqft_lot15          21597 non-null  int64  \n",
      " 17  sqft_basement_diff  21597 non-null  int64  \n",
      " 18  distance            21597 non-null  float64\n",
      " 19  house_age           21597 non-null  int64  \n",
      " 20  grade_int           21597 non-null  int64  \n",
      " 21  view_AVERAGE        21597 non-null  float64\n",
      " 22  view_EXCELLENT      21597 non-null  float64\n",
      " 23  view_FAIR           21597 non-null  float64\n",
      " 24  view_GOOD           21597 non-null  float64\n",
      " 25  view_NONE           21597 non-null  float64\n",
      " 26  cond_Average        21597 non-null  float64\n",
      " 27  cond_Fair           21597 non-null  float64\n",
      " 28  cond_Good           21597 non-null  float64\n",
      " 29  cond_Poor           21597 non-null  float64\n",
      " 30  cond_Very Good      21597 non-null  float64\n",
      "dtypes: float64(18), int64(12), object(1)\n",
      "memory usage: 5.1+ MB\n"
     ]
    }
   ],
   "source": [
    "df.info()"
   ]
  },
  {
   "cell_type": "markdown",
   "metadata": {},
   "source": [
    "## Modeling\n",
    "\n",
    "Describe and justify the process for analyzing or modeling the data.\n",
    "\n",
    "Questions to consider:\n",
    "\n",
    "- How did you analyze the data to arrive at an initial approach?\n",
    "- How did you iterate on your initial approach to make it better?\n",
    "- Why are these choices appropriate given the data and the business problem?"
   ]
  },
  {
   "cell_type": "code",
   "execution_count": 49,
   "metadata": {},
   "outputs": [],
   "source": [
    "X = df.drop(columns=['id', 'price'])\n",
    "y = df['price']"
   ]
  },
  {
   "cell_type": "code",
   "execution_count": 50,
   "metadata": {},
   "outputs": [],
   "source": [
    "# Train - Test Split\n",
    "X_train, X_test, y_train, y_test = train_test_split(X, y, test_size=0.25, random_state=42)"
   ]
  },
  {
   "cell_type": "code",
   "execution_count": 51,
   "metadata": {},
   "outputs": [],
   "source": [
    "train_df = pd.concat([X_train, y_train], axis=1)\n",
    "test_df = pd.concat([X_test, y_test], axis=1)"
   ]
  },
  {
   "cell_type": "code",
   "execution_count": 52,
   "metadata": {},
   "outputs": [
    {
     "data": {
      "image/png": "[encoded data removed]",
      "text/plain": [
       "<Figure size 432x288 with 2 Axes>"
      ]
     },
     "metadata": {
      "needs_background": "light"
     },
     "output_type": "display_data"
    }
   ],
   "source": [
    "# Absolute value correlations with price\n",
    "sns.heatmap(abs(train_df.corr())[['price']], annot=True);"
   ]
  },
  {
   "cell_type": "code",
   "execution_count": 53,
   "metadata": {},
   "outputs": [
    {
     "data": {
      "text/plain": [
       "price                 1.000000\n",
       "sqft_living           0.700397\n",
       "grade_int             0.671702\n",
       "sqft_above            0.601355\n",
       "sqft_living15         0.591150\n",
       "bathrooms             0.529906\n",
       "view_NONE             0.363970\n",
       "sqft_basement_diff    0.328176\n",
       "bedrooms              0.320253\n",
       "lat                   0.306659\n",
       "view_EXCELLENT        0.306340\n",
       "distance              0.285045\n",
       "waterfront            0.267665\n",
       "floors                0.257826\n",
       "view_GOOD             0.188906\n",
       "view_AVERAGE          0.146068\n",
       "yr_renovated          0.116552\n",
       "view_FAIR             0.097989\n",
       "sqft_lot              0.089019\n",
       "sqft_lot15            0.080682\n",
       "cond_Very Good        0.067110\n",
       "cond_Fair             0.049162\n",
       "zipcode               0.047865\n",
       "house_age             0.046835\n",
       "yr_built              0.046835\n",
       "cond_Good             0.027691\n",
       "cond_Poor             0.022905\n",
       "long                  0.019459\n",
       "cond_Average          0.001773\n",
       "Name: price, dtype: float64"
      ]
     },
     "execution_count": 53,
     "metadata": {},
     "output_type": "execute_result"
    }
   ],
   "source": [
    "np.abs(train_df.corr()['price']).sort_values(ascending = False)"
   ]
  },
  {
   "cell_type": "markdown",
   "metadata": {},
   "source": [
    "## Evaluation\n",
    "\n",
    "The evaluation of each model should accompany the creation of each model, and you should be sure to evaluate your models consistently.\n",
    "\n",
    "Evaluate how well your work solves the stated business problem. \n",
    "\n",
    "Questions to consider:\n",
    "\n",
    "- How do you interpret the results?\n",
    "- How well does your model fit your data? How much better is this than your baseline model? Is it over or under fit?\n",
    "- How well does your model/data fit any modeling assumptions?\n",
    "\n",
    "For the final model, you might also consider:\n",
    "\n",
    "- How confident are you that your results would generalize beyond the data you have?\n",
    "- How confident are you that this model would benefit the business if put into use?"
   ]
  },
  {
   "cell_type": "markdown",
   "metadata": {},
   "source": [
    "### Baseline Understanding\n",
    "\n",
    "- What does a baseline, model-less prediction look like?"
   ]
  },
  {
   "cell_type": "code",
   "execution_count": 54,
   "metadata": {},
   "outputs": [
    {
     "data": {
      "text/plain": [
       "541284.4615669568"
      ]
     },
     "execution_count": 54,
     "metadata": {},
     "output_type": "execute_result"
    }
   ],
   "source": [
    "# code here to arrive at a baseline prediction\n",
    "train_target_mean = y_train.mean()\n",
    "train_target_mean"
   ]
  },
  {
   "cell_type": "code",
   "execution_count": 55,
   "metadata": {},
   "outputs": [
    {
     "name": "stdout",
     "output_type": "stream",
     "text": [
      "Train R2: 0.0000\n",
      "Test R2: -0.0001\n",
      "*****\n",
      "Train RMSE: $366,333.44\n",
      "Train RMSE: $370,425.86\n",
      "*****\n",
      "Train MAE: $234,722.63\n",
      "Train MAE: $233,000.84\n",
      "*****\n"
     ]
    },
    {
     "data": {
      "image/png": "[encoded data removed]",
      "text/plain": [
       "<Figure size 432x288 with 1 Axes>"
      ]
     },
     "metadata": {
      "needs_background": "light"
     },
     "output_type": "display_data"
    },
    {
     "data": {
      "image/png": "[encoded data removed]",
      "text/plain": [
       "<Figure size 432x288 with 1 Axes>"
      ]
     },
     "metadata": {
      "needs_background": "light"
     },
     "output_type": "display_data"
    },
    {
     "data": {
      "image/png": "[encoded data removed]",
      "text/plain": [
       "<Figure size 432x288 with 1 Axes>"
      ]
     },
     "metadata": {
      "needs_background": "light"
     },
     "output_type": "display_data"
    }
   ],
   "source": [
    "baseline_train_preds = [train_target_mean]*len(y_train)\n",
    "baseline_test_preds = [train_target_mean]*len(y_test)\n",
    "evaluate(y_train, baseline_train_preds, y_test, baseline_test_preds)"
   ]
  },
  {
   "cell_type": "markdown",
   "metadata": {},
   "source": [
    "### First Simple Model\n",
    "\n",
    "Before going too far down the data preparation rabbit hole, be sure to check your work against a first 'substandard' model! What is the easiest way for you to find out how hard your problem is?"
   ]
  },
  {
   "cell_type": "code",
   "execution_count": 56,
   "metadata": {},
   "outputs": [
    {
     "data": {
      "text/plain": [
       "price                 1.000000\n",
       "sqft_living           0.700397\n",
       "grade_int             0.671702\n",
       "sqft_above            0.601355\n",
       "sqft_living15         0.591150\n",
       "bathrooms             0.529906\n",
       "view_NONE             0.363970\n",
       "sqft_basement_diff    0.328176\n",
       "bedrooms              0.320253\n",
       "lat                   0.306659\n",
       "view_EXCELLENT        0.306340\n",
       "distance              0.285045\n",
       "waterfront            0.267665\n",
       "floors                0.257826\n",
       "view_GOOD             0.188906\n",
       "view_AVERAGE          0.146068\n",
       "yr_renovated          0.116552\n",
       "view_FAIR             0.097989\n",
       "sqft_lot              0.089019\n",
       "sqft_lot15            0.080682\n",
       "cond_Very Good        0.067110\n",
       "cond_Fair             0.049162\n",
       "zipcode               0.047865\n",
       "house_age             0.046835\n",
       "yr_built              0.046835\n",
       "cond_Good             0.027691\n",
       "cond_Poor             0.022905\n",
       "long                  0.019459\n",
       "cond_Average          0.001773\n",
       "Name: price, dtype: float64"
      ]
     },
     "execution_count": 56,
     "metadata": {},
     "output_type": "execute_result"
    }
   ],
   "source": [
    "np.abs(train_df.corr()['price']).sort_values(ascending = False)"
   ]
  },
  {
   "cell_type": "code",
   "execution_count": 57,
   "metadata": {},
   "outputs": [
    {
     "data": {
      "text/html": [
       "<table class=\"simpletable\">\n",
       "<caption>OLS Regression Results</caption>\n",
       "<tr>\n",
       "  <th>Dep. Variable:</th>          <td>price</td>      <th>  R-squared:         </th>  <td>   0.491</td>  \n",
       "</tr>\n",
       "<tr>\n",
       "  <th>Model:</th>                   <td>OLS</td>       <th>  Adj. R-squared:    </th>  <td>   0.491</td>  \n",
       "</tr>\n",
       "<tr>\n",
       "  <th>Method:</th>             <td>Least Squares</td>  <th>  F-statistic:       </th>  <td>1.559e+04</td> \n",
       "</tr>\n",
       "<tr>\n",
       "  <th>Date:</th>             <td>Tue, 05 Oct 2021</td> <th>  Prob (F-statistic):</th>   <td>  0.00</td>   \n",
       "</tr>\n",
       "<tr>\n",
       "  <th>Time:</th>                 <td>18:40:07</td>     <th>  Log-Likelihood:    </th> <td>-2.2503e+05</td>\n",
       "</tr>\n",
       "<tr>\n",
       "  <th>No. Observations:</th>      <td> 16197</td>      <th>  AIC:               </th>  <td>4.501e+05</td> \n",
       "</tr>\n",
       "<tr>\n",
       "  <th>Df Residuals:</th>          <td> 16195</td>      <th>  BIC:               </th>  <td>4.501e+05</td> \n",
       "</tr>\n",
       "<tr>\n",
       "  <th>Df Model:</th>              <td>     1</td>      <th>                     </th>      <td> </td>     \n",
       "</tr>\n",
       "<tr>\n",
       "  <th>Covariance Type:</th>      <td>nonrobust</td>    <th>                     </th>      <td> </td>     \n",
       "</tr>\n",
       "</table>\n",
       "<table class=\"simpletable\">\n",
       "<tr>\n",
       "       <td></td>          <th>coef</th>     <th>std err</th>      <th>t</th>      <th>P>|t|</th>  <th>[0.025</th>    <th>0.975]</th>  \n",
       "</tr>\n",
       "<tr>\n",
       "  <th>const</th>       <td>-4.099e+04</td> <td> 5095.343</td> <td>   -8.044</td> <td> 0.000</td> <td> -5.1e+04</td> <td> -3.1e+04</td>\n",
       "</tr>\n",
       "<tr>\n",
       "  <th>sqft_living</th> <td>  279.4423</td> <td>    2.238</td> <td>  124.878</td> <td> 0.000</td> <td>  275.056</td> <td>  283.828</td>\n",
       "</tr>\n",
       "</table>\n",
       "<table class=\"simpletable\">\n",
       "<tr>\n",
       "  <th>Omnibus:</th>       <td>10430.239</td> <th>  Durbin-Watson:     </th>  <td>   1.993</td> \n",
       "</tr>\n",
       "<tr>\n",
       "  <th>Prob(Omnibus):</th>  <td> 0.000</td>   <th>  Jarque-Bera (JB):  </th> <td>291279.150</td>\n",
       "</tr>\n",
       "<tr>\n",
       "  <th>Skew:</th>           <td> 2.656</td>   <th>  Prob(JB):          </th>  <td>    0.00</td> \n",
       "</tr>\n",
       "<tr>\n",
       "  <th>Kurtosis:</th>       <td>23.084</td>   <th>  Cond. No.          </th>  <td>5.65e+03</td> \n",
       "</tr>\n",
       "</table><br/><br/>Notes:<br/>[1] Standard Errors assume that the covariance matrix of the errors is correctly specified.<br/>[2] The condition number is large, 5.65e+03. This might indicate that there are<br/>strong multicollinearity or other numerical problems."
      ],
      "text/plain": [
       "<class 'statsmodels.iolib.summary.Summary'>\n",
       "\"\"\"\n",
       "                            OLS Regression Results                            \n",
       "==============================================================================\n",
       "Dep. Variable:                  price   R-squared:                       0.491\n",
       "Model:                            OLS   Adj. R-squared:                  0.491\n",
       "Method:                 Least Squares   F-statistic:                 1.559e+04\n",
       "Date:                Tue, 05 Oct 2021   Prob (F-statistic):               0.00\n",
       "Time:                        18:40:07   Log-Likelihood:            -2.2503e+05\n",
       "No. Observations:               16197   AIC:                         4.501e+05\n",
       "Df Residuals:                   16195   BIC:                         4.501e+05\n",
       "Df Model:                           1                                         \n",
       "Covariance Type:            nonrobust                                         \n",
       "===============================================================================\n",
       "                  coef    std err          t      P>|t|      [0.025      0.975]\n",
       "-------------------------------------------------------------------------------\n",
       "const       -4.099e+04   5095.343     -8.044      0.000    -5.1e+04    -3.1e+04\n",
       "sqft_living   279.4423      2.238    124.878      0.000     275.056     283.828\n",
       "==============================================================================\n",
       "Omnibus:                    10430.239   Durbin-Watson:                   1.993\n",
       "Prob(Omnibus):                  0.000   Jarque-Bera (JB):           291279.150\n",
       "Skew:                           2.656   Prob(JB):                         0.00\n",
       "Kurtosis:                      23.084   Cond. No.                     5.65e+03\n",
       "==============================================================================\n",
       "\n",
       "Notes:\n",
       "[1] Standard Errors assume that the covariance matrix of the errors is correctly specified.\n",
       "[2] The condition number is large, 5.65e+03. This might indicate that there are\n",
       "strong multicollinearity or other numerical problems.\n",
       "\"\"\""
      ]
     },
     "execution_count": 57,
     "metadata": {},
     "output_type": "execute_result"
    }
   ],
   "source": [
    "# code here for your first 'substandard' model\n",
    "fsm_X_train= X_train['sqft_living']\n",
    "fsm_X_test = X_test['sqft_living']\n",
    "fsm = sm.OLS(y_train, sm.add_constant(fsm_X_train)).fit()\n",
    "fsm.summary()"
   ]
  },
  {
   "cell_type": "code",
   "execution_count": 58,
   "metadata": {},
   "outputs": [
    {
     "name": "stdout",
     "output_type": "stream",
     "text": [
      "Train R2: 0.4906\n",
      "Test R2: 0.4989\n",
      "*****\n",
      "Train RMSE: $261,471.87\n",
      "Train RMSE: $262,216.52\n",
      "*****\n",
      "Train MAE: $174,170.69\n",
      "Train MAE: $171,964.83\n",
      "*****\n"
     ]
    },
    {
     "data": {
      "image/png": "[encoded data removed]",
      "text/plain": [
       "<Figure size 432x288 with 1 Axes>"
      ]
     },
     "metadata": {
      "needs_background": "light"
     },
     "output_type": "display_data"
    },
    {
     "data": {
      "image/png": "[encoded data removed]",
      "text/plain": [
       "<Figure size 432x288 with 1 Axes>"
      ]
     },
     "metadata": {
      "needs_background": "light"
     },
     "output_type": "display_data"
    },
    {
     "data": {
      "image/png": "[encoded data removed]",
      "text/plain": [
       "<Figure size 432x288 with 1 Axes>"
      ]
     },
     "metadata": {
      "needs_background": "light"
     },
     "output_type": "display_data"
    }
   ],
   "source": [
    "# code here to evaluate your first 'substandard' model\n",
    "fsm_train_preds = fsm.predict(sm.add_constant(fsm_X_train))\n",
    "fsm_test_preds = fsm.predict(sm.add_constant(fsm_X_test))\n",
    "\n",
    "evaluate(y_train, fsm_train_preds, y_test, fsm_test_preds)"
   ]
  },
  {
   "cell_type": "markdown",
   "metadata": {},
   "source": [
    "#### As seen from the residuals plot above, there is heteroskedasticity problem, which means that the spread of residuals is different at different levels of the fitted values. In order to overcome heteroskedasticity, we can do variable transformation (i.e. log transformation) of the target column."
   ]
  },
  {
   "cell_type": "code",
   "execution_count": 59,
   "metadata": {},
   "outputs": [
    {
     "data": {
      "text/html": [
       "<table class=\"simpletable\">\n",
       "<caption>OLS Regression Results</caption>\n",
       "<tr>\n",
       "  <th>Dep. Variable:</th>          <td>price</td>      <th>  R-squared:         </th> <td>   0.483</td> \n",
       "</tr>\n",
       "<tr>\n",
       "  <th>Model:</th>                   <td>OLS</td>       <th>  Adj. R-squared:    </th> <td>   0.483</td> \n",
       "</tr>\n",
       "<tr>\n",
       "  <th>Method:</th>             <td>Least Squares</td>  <th>  F-statistic:       </th> <td>1.514e+04</td>\n",
       "</tr>\n",
       "<tr>\n",
       "  <th>Date:</th>             <td>Tue, 05 Oct 2021</td> <th>  Prob (F-statistic):</th>  <td>  0.00</td>  \n",
       "</tr>\n",
       "<tr>\n",
       "  <th>Time:</th>                 <td>18:40:08</td>     <th>  Log-Likelihood:    </th> <td> -7274.1</td> \n",
       "</tr>\n",
       "<tr>\n",
       "  <th>No. Observations:</th>      <td> 16197</td>      <th>  AIC:               </th> <td>1.455e+04</td>\n",
       "</tr>\n",
       "<tr>\n",
       "  <th>Df Residuals:</th>          <td> 16195</td>      <th>  BIC:               </th> <td>1.457e+04</td>\n",
       "</tr>\n",
       "<tr>\n",
       "  <th>Df Model:</th>              <td>     1</td>      <th>                     </th>     <td> </td>    \n",
       "</tr>\n",
       "<tr>\n",
       "  <th>Covariance Type:</th>      <td>nonrobust</td>    <th>                     </th>     <td> </td>    \n",
       "</tr>\n",
       "</table>\n",
       "<table class=\"simpletable\">\n",
       "<tr>\n",
       "       <td></td>          <th>coef</th>     <th>std err</th>      <th>t</th>      <th>P>|t|</th>  <th>[0.025</th>    <th>0.975]</th>  \n",
       "</tr>\n",
       "<tr>\n",
       "  <th>const</th>       <td>   12.2179</td> <td>    0.007</td> <td> 1653.638</td> <td> 0.000</td> <td>   12.203</td> <td>   12.232</td>\n",
       "</tr>\n",
       "<tr>\n",
       "  <th>sqft_living</th> <td>    0.0004</td> <td> 3.24e-06</td> <td>  123.040</td> <td> 0.000</td> <td>    0.000</td> <td>    0.000</td>\n",
       "</tr>\n",
       "</table>\n",
       "<table class=\"simpletable\">\n",
       "<tr>\n",
       "  <th>Omnibus:</th>       <td> 2.151</td> <th>  Durbin-Watson:     </th> <td>   2.007</td>\n",
       "</tr>\n",
       "<tr>\n",
       "  <th>Prob(Omnibus):</th> <td> 0.341</td> <th>  Jarque-Bera (JB):  </th> <td>   2.122</td>\n",
       "</tr>\n",
       "<tr>\n",
       "  <th>Skew:</th>          <td> 0.025</td> <th>  Prob(JB):          </th> <td>   0.346</td>\n",
       "</tr>\n",
       "<tr>\n",
       "  <th>Kurtosis:</th>      <td> 3.026</td> <th>  Cond. No.          </th> <td>5.65e+03</td>\n",
       "</tr>\n",
       "</table><br/><br/>Notes:<br/>[1] Standard Errors assume that the covariance matrix of the errors is correctly specified.<br/>[2] The condition number is large, 5.65e+03. This might indicate that there are<br/>strong multicollinearity or other numerical problems."
      ],
      "text/plain": [
       "<class 'statsmodels.iolib.summary.Summary'>\n",
       "\"\"\"\n",
       "                            OLS Regression Results                            \n",
       "==============================================================================\n",
       "Dep. Variable:                  price   R-squared:                       0.483\n",
       "Model:                            OLS   Adj. R-squared:                  0.483\n",
       "Method:                 Least Squares   F-statistic:                 1.514e+04\n",
       "Date:                Tue, 05 Oct 2021   Prob (F-statistic):               0.00\n",
       "Time:                        18:40:08   Log-Likelihood:                -7274.1\n",
       "No. Observations:               16197   AIC:                         1.455e+04\n",
       "Df Residuals:                   16195   BIC:                         1.457e+04\n",
       "Df Model:                           1                                         \n",
       "Covariance Type:            nonrobust                                         \n",
       "===============================================================================\n",
       "                  coef    std err          t      P>|t|      [0.025      0.975]\n",
       "-------------------------------------------------------------------------------\n",
       "const          12.2179      0.007   1653.638      0.000      12.203      12.232\n",
       "sqft_living     0.0004   3.24e-06    123.040      0.000       0.000       0.000\n",
       "==============================================================================\n",
       "Omnibus:                        2.151   Durbin-Watson:                   2.007\n",
       "Prob(Omnibus):                  0.341   Jarque-Bera (JB):                2.122\n",
       "Skew:                           0.025   Prob(JB):                        0.346\n",
       "Kurtosis:                       3.026   Cond. No.                     5.65e+03\n",
       "==============================================================================\n",
       "\n",
       "Notes:\n",
       "[1] Standard Errors assume that the covariance matrix of the errors is correctly specified.\n",
       "[2] The condition number is large, 5.65e+03. This might indicate that there are\n",
       "strong multicollinearity or other numerical problems.\n",
       "\"\"\""
      ]
     },
     "execution_count": 59,
     "metadata": {},
     "output_type": "execute_result"
    }
   ],
   "source": [
    "logged_fsm_y_train= np.log(y_train)\n",
    "logged_fsm_y_test = np.log(y_test)\n",
    "fsm_logged = sm.OLS(logged_fsm_y_train, sm.add_constant(fsm_X_train)).fit()\n",
    "fsm_logged.summary()"
   ]
  },
  {
   "cell_type": "code",
   "execution_count": 60,
   "metadata": {},
   "outputs": [
    {
     "name": "stdout",
     "output_type": "stream",
     "text": [
      "Train R2: 0.4831\n",
      "Test R2: 0.4836\n",
      "*****\n",
      "Train RMSE: $0.38\n",
      "Train RMSE: $0.38\n",
      "*****\n",
      "Train MAE: $0.31\n",
      "Train MAE: $0.31\n",
      "*****\n"
     ]
    },
    {
     "data": {
      "image/png": "[encoded data removed]",
      "text/plain": [
       "<Figure size 432x288 with 1 Axes>"
      ]
     },
     "metadata": {
      "needs_background": "light"
     },
     "output_type": "display_data"
    },
    {
     "data": {
      "image/png": "[encoded data removed]",
      "text/plain": [
       "<Figure size 432x288 with 1 Axes>"
      ]
     },
     "metadata": {
      "needs_background": "light"
     },
     "output_type": "display_data"
    },
    {
     "data": {
      "image/png": "[encoded data removed]",
      "text/plain": [
       "<Figure size 432x288 with 1 Axes>"
      ]
     },
     "metadata": {
      "needs_background": "light"
     },
     "output_type": "display_data"
    }
   ],
   "source": [
    "logged_fsm_train_preds = fsm_logged.predict(sm.add_constant(fsm_X_train))\n",
    "logged_fsm_test_preds = fsm_logged.predict(sm.add_constant(fsm_X_test))\n",
    "\n",
    "evaluate(logged_fsm_y_train, logged_fsm_train_preds, logged_fsm_y_test, logged_fsm_test_preds)"
   ]
  },
  {
   "cell_type": "markdown",
   "metadata": {},
   "source": [
    "### Modeling Iterations\n",
    "\n",
    "Now you can start to use the results of your first model to iterate - there are many options!"
   ]
  },
  {
   "cell_type": "code",
   "execution_count": 61,
   "metadata": {},
   "outputs": [],
   "source": [
    "#X_train.drop('date',axis = 1, inplace = True)"
   ]
  },
  {
   "cell_type": "code",
   "execution_count": 62,
   "metadata": {},
   "outputs": [],
   "source": [
    "# selector = SelectKBest(mutual_info_regression, k =4)\n",
    "# selector.fit(X_train, logged_fsm_y_train)\n",
    "# X_train.columns[selector.get_support()]"
   ]
  },
  {
   "cell_type": "code",
   "execution_count": 63,
   "metadata": {},
   "outputs": [],
   "source": [
    "#np.abs(X_train.corr()['sqft_living']).sort_values(ascending = False)"
   ]
  },
  {
   "cell_type": "code",
   "execution_count": 64,
   "metadata": {},
   "outputs": [
    {
     "data": {
      "text/plain": [
       "sqft_living           1.000000\n",
       "sqft_above            0.876189\n",
       "grade_int             0.761982\n",
       "sqft_living15         0.759897\n",
       "bathrooms             0.759379\n",
       "price                 0.700397\n",
       "bedrooms              0.594505\n",
       "sqft_basement_diff    0.435694\n",
       "floors                0.353248\n",
       "yr_built              0.315332\n",
       "house_age             0.315332\n",
       "view_NONE             0.278590\n",
       "long                  0.239607\n",
       "zipcode               0.196505\n",
       "sqft_lot15            0.192732\n",
       "sqft_lot              0.182949\n",
       "view_EXCELLENT        0.173083\n",
       "view_GOOD             0.159195\n",
       "view_AVERAGE          0.140727\n",
       "waterfront            0.106179\n",
       "cond_Average          0.097408\n",
       "cond_Good             0.083468\n",
       "distance              0.077158\n",
       "view_FAIR             0.070312\n",
       "cond_Fair             0.061446\n",
       "lat                   0.053683\n",
       "yr_renovated          0.048294\n",
       "cond_Poor             0.026956\n",
       "cond_Very Good        0.012643\n",
       "Name: sqft_living, dtype: float64"
      ]
     },
     "execution_count": 64,
     "metadata": {},
     "output_type": "execute_result"
    }
   ],
   "source": [
    "np.abs(train_df.corr()['sqft_living']).sort_values(ascending = False)"
   ]
  },
  {
   "cell_type": "code",
   "execution_count": null,
   "metadata": {},
   "outputs": [],
   "source": []
  },
  {
   "cell_type": "code",
   "execution_count": 65,
   "metadata": {},
   "outputs": [
    {
     "name": "stdout",
     "output_type": "stream",
     "text": [
      "Train R2 with ['sqft_living', 'bedrooms'] predictors: 0.48904358661856107\n",
      "Train R2 with ['sqft_living', 'bathrooms'] predictors: 0.4847795200055758\n",
      "Train R2 with ['sqft_living', 'sqft_lot'] predictors: 0.48373986929006974\n",
      "Train R2 with ['sqft_living', 'floors'] predictors: 0.48792884651770274\n",
      "Train R2 with ['sqft_living', 'waterfront'] predictors: 0.4941786876857758\n",
      "Train R2 with ['sqft_living', 'sqft_above'] predictors: 0.4834182343615778\n",
      "Train R2 with ['sqft_living', 'yr_built'] predictors: 0.5074618192252892\n",
      "Train R2 with ['sqft_living', 'yr_renovated'] predictors: 0.48901726081061114\n",
      "Train R2 with ['sqft_living', 'zipcode'] predictors: 0.4941693504108897\n",
      "Train R2 with ['sqft_living', 'lat'] predictors: 0.6524467338251517\n",
      "Train R2 with ['sqft_living', 'long'] predictors: 0.4979691500924638\n",
      "Train R2 with ['sqft_living', 'sqft_living15'] predictors: 0.504495381565816\n",
      "Train R2 with ['sqft_living', 'sqft_lot15'] predictors: 0.48477774305829724\n",
      "Train R2 with ['sqft_living', 'sqft_basement_diff'] predictors: 0.4834182343615777\n",
      "Train R2 with ['sqft_living', 'distance'] predictors: 0.6437599927529245\n",
      "Train R2 with ['sqft_living', 'house_age'] predictors: 0.5074618192252893\n",
      "Train R2 with ['sqft_living', 'grade_int'] predictors: 0.5559147422704757\n",
      "Train R2 with ['sqft_living', 'view_AVERAGE'] predictors: 0.4868133279555452\n",
      "Train R2 with ['sqft_living', 'view_EXCELLENT'] predictors: 0.49569546669481523\n",
      "Train R2 with ['sqft_living', 'view_FAIR'] predictors: 0.4858006449681881\n",
      "Train R2 with ['sqft_living', 'view_GOOD'] predictors: 0.487515887752784\n",
      "Train R2 with ['sqft_living', 'view_NONE'] predictors: 0.504812652918541\n",
      "Train R2 with ['sqft_living', 'cond_Average'] predictors: 0.4857391567758632\n",
      "Train R2 with ['sqft_living', 'cond_Fair'] predictors: 0.4847993548686843\n",
      "Train R2 with ['sqft_living', 'cond_Good'] predictors: 0.4834429072952744\n",
      "Train R2 with ['sqft_living', 'cond_Poor'] predictors: 0.4835999596096825\n",
      "Train R2 with ['sqft_living', 'cond_Very Good'] predictors: 0.4891456409027549\n"
     ]
    }
   ],
   "source": [
    "# code here to iteratively improve your models\n",
    "second_dict = {}\n",
    "for col in X_train.columns:\n",
    "    if(col not in ['sqft_living', 'date', 'condition', 'grade', 'sqft_basement']):\n",
    "        test_list = ['sqft_living', col]\n",
    "        #print(test_list)\n",
    "        second_X_train= X_train[test_list]\n",
    "        second_X_test = X_test[test_list]\n",
    "        second = sm.OLS(logged_fsm_y_train, sm.add_constant(second_X_train)).fit()\n",
    "        second_train_preds = second.predict(sm.add_constant(second_X_train))\n",
    "        second_test_preds = second.predict(sm.add_constant(second_X_test))\n",
    "        ##evaluate(logged_fsm_y_train, second_train_preds , logged_fsm_y_test, second_test_preds)\n",
    "        ##second_dict[col] = r2_score(logged_fsm_y_train, second_train_preds)\n",
    "        print(f\"Train R2 with {test_list} predictors: {r2_score(logged_fsm_y_train, second_train_preds)}\")\n"
   ]
  },
  {
   "cell_type": "markdown",
   "metadata": {},
   "source": [
    "#### We noticed that 'distance' and 'lat' had the highest r-squared score when combined with 'sqft_living'. Since 'distance' is dependent on 'lat', we chose 'distance' as our next predictor."
   ]
  },
  {
   "cell_type": "code",
   "execution_count": null,
   "metadata": {},
   "outputs": [],
   "source": []
  },
  {
   "cell_type": "code",
   "execution_count": 66,
   "metadata": {},
   "outputs": [
    {
     "name": "stdout",
     "output_type": "stream",
     "text": [
      "Train R2: 0.6438\n",
      "Test R2: 0.6436\n",
      "*****\n",
      "Train RMSE: $0.31\n",
      "Train RMSE: $0.31\n",
      "*****\n",
      "Train MAE: $0.25\n",
      "Train MAE: $0.24\n",
      "*****\n"
     ]
    },
    {
     "data": {
      "image/png": "[encoded data removed]",
      "text/plain": [
       "<Figure size 432x288 with 1 Axes>"
      ]
     },
     "metadata": {
      "needs_background": "light"
     },
     "output_type": "display_data"
    },
    {
     "data": {
      "image/png": "[encoded data removed]",
      "text/plain": [
       "<Figure size 432x288 with 1 Axes>"
      ]
     },
     "metadata": {
      "needs_background": "light"
     },
     "output_type": "display_data"
    },
    {
     "data": {
      "image/png": "[encoded data removed]",
      "text/plain": [
       "<Figure size 432x288 with 1 Axes>"
      ]
     },
     "metadata": {
      "needs_background": "light"
     },
     "output_type": "display_data"
    }
   ],
   "source": [
    "second_predictors = ['sqft_living', 'distance']\n",
    "second_X_train= X_train[second_predictors]\n",
    "second_X_test = X_test[second_predictors]\n",
    "second_model = sm.OLS(logged_fsm_y_train, sm.add_constant(second_X_train)).fit()\n",
    "second_train_preds = second_model.predict(sm.add_constant(second_X_train))\n",
    "second_test_preds = second_model.predict(sm.add_constant(second_X_test))\n",
    "evaluate(logged_fsm_y_train, second_train_preds , logged_fsm_y_test, second_test_preds)"
   ]
  },
  {
   "cell_type": "code",
   "execution_count": 67,
   "metadata": {},
   "outputs": [
    {
     "data": {
      "text/html": [
       "<div>\n",
       "<style scoped>\n",
       "    .dataframe tbody tr th:only-of-type {\n",
       "        vertical-align: middle;\n",
       "    }\n",
       "\n",
       "    .dataframe tbody tr th {\n",
       "        vertical-align: top;\n",
       "    }\n",
       "\n",
       "    .dataframe thead th {\n",
       "        text-align: right;\n",
       "    }\n",
       "</style>\n",
       "<table border=\"1\" class=\"dataframe\">\n",
       "  <thead>\n",
       "    <tr style=\"text-align: right;\">\n",
       "      <th></th>\n",
       "      <th>features</th>\n",
       "      <th>VIF</th>\n",
       "    </tr>\n",
       "  </thead>\n",
       "  <tbody>\n",
       "    <tr>\n",
       "      <th>0</th>\n",
       "      <td>sqft_living</td>\n",
       "      <td>2.891538</td>\n",
       "    </tr>\n",
       "    <tr>\n",
       "      <th>1</th>\n",
       "      <td>distance</td>\n",
       "      <td>2.891538</td>\n",
       "    </tr>\n",
       "  </tbody>\n",
       "</table>\n",
       "</div>"
      ],
      "text/plain": [
       "      features       VIF\n",
       "0  sqft_living  2.891538\n",
       "1     distance  2.891538"
      ]
     },
     "execution_count": 67,
     "metadata": {},
     "output_type": "execute_result"
    }
   ],
   "source": [
    "from statsmodels.stats.outliers_influence import variance_inflation_factor\n",
    "\n",
    "# defining an empty dataframe to capture the VIF scores\n",
    "vif_2 = pd.DataFrame()\n",
    "\n",
    "# label the scores with their related columns\n",
    "vif_2[\"features\"] = second_X_train.columns\n",
    "\n",
    "# For each column,run a variance_inflaction_factor against all other columns to get a VIF Factor score\n",
    "\n",
    "vif_2[\"VIF\"] = [variance_inflation_factor(second_X_train.values, i) \\\n",
    "                for i in range(len(second_X_train.columns))]\n",
    "\n",
    "vif_2"
   ]
  },
  {
   "cell_type": "markdown",
   "metadata": {},
   "source": [
    "### We used VIF to check for Multicollinearity. Since the values are less than 7, they aren't multicollinear."
   ]
  },
  {
   "cell_type": "code",
   "execution_count": 68,
   "metadata": {},
   "outputs": [
    {
     "data": {
      "text/html": [
       "<table class=\"simpletable\">\n",
       "<caption>OLS Regression Results</caption>\n",
       "<tr>\n",
       "  <th>Dep. Variable:</th>          <td>price</td>      <th>  R-squared:         </th> <td>   0.644</td> \n",
       "</tr>\n",
       "<tr>\n",
       "  <th>Model:</th>                   <td>OLS</td>       <th>  Adj. R-squared:    </th> <td>   0.644</td> \n",
       "</tr>\n",
       "<tr>\n",
       "  <th>Method:</th>             <td>Least Squares</td>  <th>  F-statistic:       </th> <td>1.463e+04</td>\n",
       "</tr>\n",
       "<tr>\n",
       "  <th>Date:</th>             <td>Tue, 05 Oct 2021</td> <th>  Prob (F-statistic):</th>  <td>  0.00</td>  \n",
       "</tr>\n",
       "<tr>\n",
       "  <th>Time:</th>                 <td>18:40:09</td>     <th>  Log-Likelihood:    </th> <td> -4260.2</td> \n",
       "</tr>\n",
       "<tr>\n",
       "  <th>No. Observations:</th>      <td> 16197</td>      <th>  AIC:               </th> <td>   8526.</td> \n",
       "</tr>\n",
       "<tr>\n",
       "  <th>Df Residuals:</th>          <td> 16194</td>      <th>  BIC:               </th> <td>   8550.</td> \n",
       "</tr>\n",
       "<tr>\n",
       "  <th>Df Model:</th>              <td>     2</td>      <th>                     </th>     <td> </td>    \n",
       "</tr>\n",
       "<tr>\n",
       "  <th>Covariance Type:</th>      <td>nonrobust</td>    <th>                     </th>     <td> </td>    \n",
       "</tr>\n",
       "</table>\n",
       "<table class=\"simpletable\">\n",
       "<tr>\n",
       "       <td></td>          <th>coef</th>     <th>std err</th>      <th>t</th>      <th>P>|t|</th>  <th>[0.025</th>    <th>0.975]</th>  \n",
       "</tr>\n",
       "<tr>\n",
       "  <th>const</th>       <td>   12.5494</td> <td>    0.007</td> <td> 1728.973</td> <td> 0.000</td> <td>   12.535</td> <td>   12.564</td>\n",
       "</tr>\n",
       "<tr>\n",
       "  <th>sqft_living</th> <td>    0.0004</td> <td>  2.7e-06</td> <td>  154.350</td> <td> 0.000</td> <td>    0.000</td> <td>    0.000</td>\n",
       "</tr>\n",
       "<tr>\n",
       "  <th>distance</th>    <td>   -0.0320</td> <td>    0.000</td> <td>  -85.447</td> <td> 0.000</td> <td>   -0.033</td> <td>   -0.031</td>\n",
       "</tr>\n",
       "</table>\n",
       "<table class=\"simpletable\">\n",
       "<tr>\n",
       "  <th>Omnibus:</th>       <td>525.446</td> <th>  Durbin-Watson:     </th> <td>   2.020</td> \n",
       "</tr>\n",
       "<tr>\n",
       "  <th>Prob(Omnibus):</th> <td> 0.000</td>  <th>  Jarque-Bera (JB):  </th> <td> 988.590</td> \n",
       "</tr>\n",
       "<tr>\n",
       "  <th>Skew:</th>          <td>-0.253</td>  <th>  Prob(JB):          </th> <td>2.14e-215</td>\n",
       "</tr>\n",
       "<tr>\n",
       "  <th>Kurtosis:</th>      <td> 4.100</td>  <th>  Cond. No.          </th> <td>6.68e+03</td> \n",
       "</tr>\n",
       "</table><br/><br/>Notes:<br/>[1] Standard Errors assume that the covariance matrix of the errors is correctly specified.<br/>[2] The condition number is large, 6.68e+03. This might indicate that there are<br/>strong multicollinearity or other numerical problems."
      ],
      "text/plain": [
       "<class 'statsmodels.iolib.summary.Summary'>\n",
       "\"\"\"\n",
       "                            OLS Regression Results                            \n",
       "==============================================================================\n",
       "Dep. Variable:                  price   R-squared:                       0.644\n",
       "Model:                            OLS   Adj. R-squared:                  0.644\n",
       "Method:                 Least Squares   F-statistic:                 1.463e+04\n",
       "Date:                Tue, 05 Oct 2021   Prob (F-statistic):               0.00\n",
       "Time:                        18:40:09   Log-Likelihood:                -4260.2\n",
       "No. Observations:               16197   AIC:                             8526.\n",
       "Df Residuals:                   16194   BIC:                             8550.\n",
       "Df Model:                           2                                         \n",
       "Covariance Type:            nonrobust                                         \n",
       "===============================================================================\n",
       "                  coef    std err          t      P>|t|      [0.025      0.975]\n",
       "-------------------------------------------------------------------------------\n",
       "const          12.5494      0.007   1728.973      0.000      12.535      12.564\n",
       "sqft_living     0.0004    2.7e-06    154.350      0.000       0.000       0.000\n",
       "distance       -0.0320      0.000    -85.447      0.000      -0.033      -0.031\n",
       "==============================================================================\n",
       "Omnibus:                      525.446   Durbin-Watson:                   2.020\n",
       "Prob(Omnibus):                  0.000   Jarque-Bera (JB):              988.590\n",
       "Skew:                          -0.253   Prob(JB):                    2.14e-215\n",
       "Kurtosis:                       4.100   Cond. No.                     6.68e+03\n",
       "==============================================================================\n",
       "\n",
       "Notes:\n",
       "[1] Standard Errors assume that the covariance matrix of the errors is correctly specified.\n",
       "[2] The condition number is large, 6.68e+03. This might indicate that there are\n",
       "strong multicollinearity or other numerical problems.\n",
       "\"\"\""
      ]
     },
     "execution_count": 68,
     "metadata": {},
     "output_type": "execute_result"
    }
   ],
   "source": [
    "second_model.summary()"
   ]
  },
  {
   "cell_type": "markdown",
   "metadata": {},
   "source": [
    "### Third iteration with 'sqft_living' and 'distance' as our default predictors"
   ]
  },
  {
   "cell_type": "code",
   "execution_count": 69,
   "metadata": {},
   "outputs": [
    {
     "name": "stdout",
     "output_type": "stream",
     "text": [
      "Train R2 with ['sqft_living', 'distance', 'bedrooms'] predictors: 0.6485813874231906\n",
      "Train R2 with ['sqft_living', 'distance', 'bathrooms'] predictors: 0.6465574820352564\n",
      "Train R2 with ['sqft_living', 'distance', 'sqft_lot'] predictors: 0.6487813892797247\n",
      "Train R2 with ['sqft_living', 'distance', 'floors'] predictors: 0.647250972906849\n",
      "Train R2 with ['sqft_living', 'distance', 'waterfront'] predictors: 0.6529415698456431\n",
      "Train R2 with ['sqft_living', 'distance', 'sqft_above'] predictors: 0.6523739596236255\n",
      "Train R2 with ['sqft_living', 'distance', 'yr_built'] predictors: 0.6437626188092516\n",
      "Train R2 with ['sqft_living', 'distance', 'yr_renovated'] predictors: 0.6456766909581626\n",
      "Train R2 with ['sqft_living', 'distance', 'zipcode'] predictors: 0.6588161811679863\n",
      "Train R2 with ['sqft_living', 'distance', 'lat'] predictors: 0.6908657689864015\n",
      "Train R2 with ['sqft_living', 'distance', 'long'] predictors: 0.6841848986340586\n",
      "Train R2 with ['sqft_living', 'distance', 'sqft_living15'] predictors: 0.6820682339686271\n",
      "Train R2 with ['sqft_living', 'distance', 'sqft_lot15'] predictors: 0.6482632590072578\n",
      "Train R2 with ['sqft_living', 'distance', 'sqft_basement_diff'] predictors: 0.6523739596236255\n",
      "Train R2 with ['sqft_living', 'distance', 'house_age'] predictors: 0.6437626188092515\n",
      "Train R2 with ['sqft_living', 'distance', 'grade_int'] predictors: 0.7010660015428174\n",
      "Train R2 with ['sqft_living', 'distance', 'view_AVERAGE'] predictors: 0.6451508442823158\n",
      "Train R2 with ['sqft_living', 'distance', 'view_EXCELLENT'] predictors: 0.6523628607427088\n",
      "Train R2 with ['sqft_living', 'distance', 'view_FAIR'] predictors: 0.6443110925009305\n",
      "Train R2 with ['sqft_living', 'distance', 'view_GOOD'] predictors: 0.6460589784037132\n",
      "Train R2 with ['sqft_living', 'distance', 'view_NONE'] predictors: 0.654066847843975\n",
      "Train R2 with ['sqft_living', 'distance', 'cond_Average'] predictors: 0.6447035261244973\n",
      "Train R2 with ['sqft_living', 'distance', 'cond_Fair'] predictors: 0.6453776426999889\n",
      "Train R2 with ['sqft_living', 'distance', 'cond_Good'] predictors: 0.6441297086635187\n",
      "Train R2 with ['sqft_living', 'distance', 'cond_Poor'] predictors: 0.6444094978146997\n",
      "Train R2 with ['sqft_living', 'distance', 'cond_Very Good'] predictors: 0.6452988827140416\n"
     ]
    }
   ],
   "source": [
    "# code here to iteratively improve your models\n",
    "for col in X_train.columns:\n",
    "    if(col not in ['sqft_living', 'distance','date', 'condition', 'grade', 'sqft_basement']):\n",
    "        test_list = ['sqft_living','distance', col]\n",
    "        #print(test_list)\n",
    "        third_X_train= X_train[test_list]\n",
    "        third_X_test = X_test[test_list]\n",
    "        third = sm.OLS(logged_fsm_y_train, sm.add_constant(third_X_train)).fit()\n",
    "        third_train_preds = third.predict(sm.add_constant(third_X_train))\n",
    "        third_test_preds = third.predict(sm.add_constant(third_X_test))\n",
    "        ##evaluate(logged_fsm_y_train, second_train_preds , logged_fsm_y_test, second_test_preds)\n",
    "        ##second_dict[col] = r2_score(logged_fsm_y_train, second_train_preds)\n",
    "        print(f\"Train R2 with {test_list} predictors: {r2_score(logged_fsm_y_train, third_train_preds)}\")\n"
   ]
  },
  {
   "cell_type": "markdown",
   "metadata": {},
   "source": [
    "#### We noticed that 'grade_int' had the highest r-squared score when combined with 'sqft_living' and 'distance'."
   ]
  },
  {
   "cell_type": "code",
   "execution_count": 70,
   "metadata": {},
   "outputs": [
    {
     "name": "stdout",
     "output_type": "stream",
     "text": [
      "Train R2: 0.7011\n",
      "Test R2: 0.6984\n",
      "*****\n",
      "Train RMSE: $0.29\n",
      "Train RMSE: $0.29\n",
      "*****\n",
      "Train MAE: $0.23\n",
      "Train MAE: $0.22\n",
      "*****\n"
     ]
    },
    {
     "data": {
      "image/png": "[encoded data removed]",
      "text/plain": [
       "<Figure size 432x288 with 1 Axes>"
      ]
     },
     "metadata": {
      "needs_background": "light"
     },
     "output_type": "display_data"
    },
    {
     "data": {
      "image/png": "[encoded data removed]",
      "text/plain": [
       "<Figure size 432x288 with 1 Axes>"
      ]
     },
     "metadata": {
      "needs_background": "light"
     },
     "output_type": "display_data"
    },
    {
     "data": {
      "image/png": "[encoded data removed]",
      "text/plain": [
       "<Figure size 432x288 with 1 Axes>"
      ]
     },
     "metadata": {
      "needs_background": "light"
     },
     "output_type": "display_data"
    }
   ],
   "source": [
    "third_predictors = ['sqft_living', 'grade_int', 'distance']\n",
    "third_X_train= X_train[third_predictors]\n",
    "third_X_test = X_test[third_predictors]\n",
    "third_model = sm.OLS(logged_fsm_y_train, sm.add_constant(third_X_train)).fit()\n",
    "third_train_preds = third_model.predict(sm.add_constant(third_X_train))\n",
    "third_test_preds = third_model.predict(sm.add_constant(third_X_test))\n",
    "evaluate(logged_fsm_y_train, third_train_preds , logged_fsm_y_test, third_test_preds)"
   ]
  },
  {
   "cell_type": "code",
   "execution_count": 71,
   "metadata": {},
   "outputs": [
    {
     "data": {
      "text/html": [
       "<div>\n",
       "<style scoped>\n",
       "    .dataframe tbody tr th:only-of-type {\n",
       "        vertical-align: middle;\n",
       "    }\n",
       "\n",
       "    .dataframe tbody tr th {\n",
       "        vertical-align: top;\n",
       "    }\n",
       "\n",
       "    .dataframe thead th {\n",
       "        text-align: right;\n",
       "    }\n",
       "</style>\n",
       "<table border=\"1\" class=\"dataframe\">\n",
       "  <thead>\n",
       "    <tr style=\"text-align: right;\">\n",
       "      <th></th>\n",
       "      <th>features</th>\n",
       "      <th>VIF</th>\n",
       "    </tr>\n",
       "  </thead>\n",
       "  <tbody>\n",
       "    <tr>\n",
       "      <th>0</th>\n",
       "      <td>sqft_living</td>\n",
       "      <td>10.476382</td>\n",
       "    </tr>\n",
       "    <tr>\n",
       "      <th>1</th>\n",
       "      <td>grade_int</td>\n",
       "      <td>13.698889</td>\n",
       "    </tr>\n",
       "    <tr>\n",
       "      <th>2</th>\n",
       "      <td>distance</td>\n",
       "      <td>3.787859</td>\n",
       "    </tr>\n",
       "  </tbody>\n",
       "</table>\n",
       "</div>"
      ],
      "text/plain": [
       "      features        VIF\n",
       "0  sqft_living  10.476382\n",
       "1    grade_int  13.698889\n",
       "2     distance   3.787859"
      ]
     },
     "execution_count": 71,
     "metadata": {},
     "output_type": "execute_result"
    }
   ],
   "source": [
    "# defining an empty dataframe to capture the VIF scores\n",
    "vif_3 = pd.DataFrame()\n",
    "\n",
    "# label the scores with their related columns\n",
    "vif_3[\"features\"] = third_X_train.columns\n",
    "\n",
    "# For each column,run a variance_inflaction_factor against all other columns to get a VIF Factor score\n",
    "\n",
    "vif_3[\"VIF\"] = [variance_inflation_factor(third_X_train.values, i) \\\n",
    "                for i in range(len(third_X_train.columns))]\n",
    "\n",
    "vif_3"
   ]
  },
  {
   "cell_type": "markdown",
   "metadata": {},
   "source": [
    "### Since 'sqft_living' and 'grade_int' have VIF values greater than 7, they are multicollinear. Therefore, we will choose to add 'waterfront' instead"
   ]
  },
  {
   "cell_type": "code",
   "execution_count": 72,
   "metadata": {},
   "outputs": [
    {
     "name": "stdout",
     "output_type": "stream",
     "text": [
      "Train R2: 0.6529\n",
      "Test R2: 0.6477\n",
      "*****\n",
      "Train RMSE: $0.31\n",
      "Train RMSE: $0.31\n",
      "*****\n",
      "Train MAE: $0.24\n",
      "Train MAE: $0.24\n",
      "*****\n"
     ]
    },
    {
     "data": {
      "image/png": "[encoded data removed]",
      "text/plain": [
       "<Figure size 432x288 with 1 Axes>"
      ]
     },
     "metadata": {
      "needs_background": "light"
     },
     "output_type": "display_data"
    },
    {
     "data": {
      "image/png": "[encoded data removed]",
      "text/plain": [
       "<Figure size 432x288 with 1 Axes>"
      ]
     },
     "metadata": {
      "needs_background": "light"
     },
     "output_type": "display_data"
    },
    {
     "data": {
      "image/png": "[encoded data removed]",
      "text/plain": [
       "<Figure size 432x288 with 1 Axes>"
      ]
     },
     "metadata": {
      "needs_background": "light"
     },
     "output_type": "display_data"
    }
   ],
   "source": [
    "third_predictors = ['sqft_living', 'distance', 'waterfront']\n",
    "third_X_train= X_train[third_predictors]\n",
    "third_X_test = X_test[third_predictors]\n",
    "third_model = sm.OLS(logged_fsm_y_train, sm.add_constant(third_X_train)).fit()\n",
    "third_train_preds = third_model.predict(sm.add_constant(third_X_train))\n",
    "third_test_preds = third_model.predict(sm.add_constant(third_X_test))\n",
    "evaluate(logged_fsm_y_train, third_train_preds , logged_fsm_y_test, third_test_preds)"
   ]
  },
  {
   "cell_type": "code",
   "execution_count": 73,
   "metadata": {},
   "outputs": [
    {
     "data": {
      "text/html": [
       "<div>\n",
       "<style scoped>\n",
       "    .dataframe tbody tr th:only-of-type {\n",
       "        vertical-align: middle;\n",
       "    }\n",
       "\n",
       "    .dataframe tbody tr th {\n",
       "        vertical-align: top;\n",
       "    }\n",
       "\n",
       "    .dataframe thead th {\n",
       "        text-align: right;\n",
       "    }\n",
       "</style>\n",
       "<table border=\"1\" class=\"dataframe\">\n",
       "  <thead>\n",
       "    <tr style=\"text-align: right;\">\n",
       "      <th></th>\n",
       "      <th>features</th>\n",
       "      <th>VIF</th>\n",
       "    </tr>\n",
       "  </thead>\n",
       "  <tbody>\n",
       "    <tr>\n",
       "      <th>0</th>\n",
       "      <td>sqft_living</td>\n",
       "      <td>2.928890</td>\n",
       "    </tr>\n",
       "    <tr>\n",
       "      <th>1</th>\n",
       "      <td>distance</td>\n",
       "      <td>2.899871</td>\n",
       "    </tr>\n",
       "    <tr>\n",
       "      <th>2</th>\n",
       "      <td>waterfront</td>\n",
       "      <td>1.017146</td>\n",
       "    </tr>\n",
       "  </tbody>\n",
       "</table>\n",
       "</div>"
      ],
      "text/plain": [
       "      features       VIF\n",
       "0  sqft_living  2.928890\n",
       "1     distance  2.899871\n",
       "2   waterfront  1.017146"
      ]
     },
     "execution_count": 73,
     "metadata": {},
     "output_type": "execute_result"
    }
   ],
   "source": [
    "# label the scores with their related columns\n",
    "vif_3[\"features\"] = third_X_train.columns\n",
    "\n",
    "# For each column,run a variance_inflaction_factor against all other columns to get a VIF Factor score\n",
    "\n",
    "vif_3[\"VIF\"] = [variance_inflation_factor(third_X_train.values, i) \\\n",
    "                for i in range(len(third_X_train.columns))]\n",
    "\n",
    "vif_3"
   ]
  },
  {
   "cell_type": "code",
   "execution_count": 74,
   "metadata": {},
   "outputs": [
    {
     "data": {
      "text/html": [
       "<table class=\"simpletable\">\n",
       "<caption>OLS Regression Results</caption>\n",
       "<tr>\n",
       "  <th>Dep. Variable:</th>          <td>price</td>      <th>  R-squared:         </th> <td>   0.653</td> \n",
       "</tr>\n",
       "<tr>\n",
       "  <th>Model:</th>                   <td>OLS</td>       <th>  Adj. R-squared:    </th> <td>   0.653</td> \n",
       "</tr>\n",
       "<tr>\n",
       "  <th>Method:</th>             <td>Least Squares</td>  <th>  F-statistic:       </th> <td>1.015e+04</td>\n",
       "</tr>\n",
       "<tr>\n",
       "  <th>Date:</th>             <td>Tue, 05 Oct 2021</td> <th>  Prob (F-statistic):</th>  <td>  0.00</td>  \n",
       "</tr>\n",
       "<tr>\n",
       "  <th>Time:</th>                 <td>18:40:11</td>     <th>  Log-Likelihood:    </th> <td> -4048.8</td> \n",
       "</tr>\n",
       "<tr>\n",
       "  <th>No. Observations:</th>      <td> 16197</td>      <th>  AIC:               </th> <td>   8106.</td> \n",
       "</tr>\n",
       "<tr>\n",
       "  <th>Df Residuals:</th>          <td> 16193</td>      <th>  BIC:               </th> <td>   8136.</td> \n",
       "</tr>\n",
       "<tr>\n",
       "  <th>Df Model:</th>              <td>     3</td>      <th>                     </th>     <td> </td>    \n",
       "</tr>\n",
       "<tr>\n",
       "  <th>Covariance Type:</th>      <td>nonrobust</td>    <th>                     </th>     <td> </td>    \n",
       "</tr>\n",
       "</table>\n",
       "<table class=\"simpletable\">\n",
       "<tr>\n",
       "       <td></td>          <th>coef</th>     <th>std err</th>      <th>t</th>      <th>P>|t|</th>  <th>[0.025</th>    <th>0.975]</th>  \n",
       "</tr>\n",
       "<tr>\n",
       "  <th>const</th>       <td>   12.5556</td> <td>    0.007</td> <td> 1750.976</td> <td> 0.000</td> <td>   12.542</td> <td>   12.570</td>\n",
       "</tr>\n",
       "<tr>\n",
       "  <th>sqft_living</th> <td>    0.0004</td> <td> 2.68e-06</td> <td>  153.237</td> <td> 0.000</td> <td>    0.000</td> <td>    0.000</td>\n",
       "</tr>\n",
       "<tr>\n",
       "  <th>distance</th>    <td>   -0.0319</td> <td>    0.000</td> <td>  -86.067</td> <td> 0.000</td> <td>   -0.033</td> <td>   -0.031</td>\n",
       "</tr>\n",
       "<tr>\n",
       "  <th>waterfront</th>  <td>    0.6162</td> <td>    0.030</td> <td>   20.698</td> <td> 0.000</td> <td>    0.558</td> <td>    0.675</td>\n",
       "</tr>\n",
       "</table>\n",
       "<table class=\"simpletable\">\n",
       "<tr>\n",
       "  <th>Omnibus:</th>       <td>591.462</td> <th>  Durbin-Watson:     </th> <td>   2.018</td> \n",
       "</tr>\n",
       "<tr>\n",
       "  <th>Prob(Omnibus):</th> <td> 0.000</td>  <th>  Jarque-Bera (JB):  </th> <td> 991.667</td> \n",
       "</tr>\n",
       "<tr>\n",
       "  <th>Skew:</th>          <td>-0.321</td>  <th>  Prob(JB):          </th> <td>4.60e-216</td>\n",
       "</tr>\n",
       "<tr>\n",
       "  <th>Kurtosis:</th>      <td> 4.029</td>  <th>  Cond. No.          </th> <td>2.78e+04</td> \n",
       "</tr>\n",
       "</table><br/><br/>Notes:<br/>[1] Standard Errors assume that the covariance matrix of the errors is correctly specified.<br/>[2] The condition number is large, 2.78e+04. This might indicate that there are<br/>strong multicollinearity or other numerical problems."
      ],
      "text/plain": [
       "<class 'statsmodels.iolib.summary.Summary'>\n",
       "\"\"\"\n",
       "                            OLS Regression Results                            \n",
       "==============================================================================\n",
       "Dep. Variable:                  price   R-squared:                       0.653\n",
       "Model:                            OLS   Adj. R-squared:                  0.653\n",
       "Method:                 Least Squares   F-statistic:                 1.015e+04\n",
       "Date:                Tue, 05 Oct 2021   Prob (F-statistic):               0.00\n",
       "Time:                        18:40:11   Log-Likelihood:                -4048.8\n",
       "No. Observations:               16197   AIC:                             8106.\n",
       "Df Residuals:                   16193   BIC:                             8136.\n",
       "Df Model:                           3                                         \n",
       "Covariance Type:            nonrobust                                         \n",
       "===============================================================================\n",
       "                  coef    std err          t      P>|t|      [0.025      0.975]\n",
       "-------------------------------------------------------------------------------\n",
       "const          12.5556      0.007   1750.976      0.000      12.542      12.570\n",
       "sqft_living     0.0004   2.68e-06    153.237      0.000       0.000       0.000\n",
       "distance       -0.0319      0.000    -86.067      0.000      -0.033      -0.031\n",
       "waterfront      0.6162      0.030     20.698      0.000       0.558       0.675\n",
       "==============================================================================\n",
       "Omnibus:                      591.462   Durbin-Watson:                   2.018\n",
       "Prob(Omnibus):                  0.000   Jarque-Bera (JB):              991.667\n",
       "Skew:                          -0.321   Prob(JB):                    4.60e-216\n",
       "Kurtosis:                       4.029   Cond. No.                     2.78e+04\n",
       "==============================================================================\n",
       "\n",
       "Notes:\n",
       "[1] Standard Errors assume that the covariance matrix of the errors is correctly specified.\n",
       "[2] The condition number is large, 2.78e+04. This might indicate that there are\n",
       "strong multicollinearity or other numerical problems.\n",
       "\"\"\""
      ]
     },
     "execution_count": 74,
     "metadata": {},
     "output_type": "execute_result"
    }
   ],
   "source": [
    "third_model.summary()"
   ]
  },
  {
   "cell_type": "markdown",
   "metadata": {},
   "source": [
    "### Fourth Iteration of Model"
   ]
  },
  {
   "cell_type": "code",
   "execution_count": 75,
   "metadata": {},
   "outputs": [
    {
     "name": "stdout",
     "output_type": "stream",
     "text": [
      "0.6568768360267812 is the R2 for ['sqft_living', 'distance', 'waterfront', 'bedrooms']\n",
      "0.6559334901051248 is the R2 for ['sqft_living', 'distance', 'waterfront', 'bathrooms']\n",
      "0.6578757887687956 is the R2 for ['sqft_living', 'distance', 'waterfront', 'sqft_lot']\n",
      "0.656645976338187 is the R2 for ['sqft_living', 'distance', 'waterfront', 'floors']\n",
      "0.6622840211520947 is the R2 for ['sqft_living', 'distance', 'waterfront', 'sqft_above']\n",
      "0.6529924411923392 is the R2 for ['sqft_living', 'distance', 'waterfront', 'yr_built']\n",
      "0.6543015600087627 is the R2 for ['sqft_living', 'distance', 'waterfront', 'yr_renovated']\n",
      "0.6690872243813406 is the R2 for ['sqft_living', 'distance', 'waterfront', 'zipcode']\n",
      "0.7016950887085784 is the R2 for ['sqft_living', 'distance', 'waterfront', 'lat']\n",
      "0.695685618208584 is the R2 for ['sqft_living', 'distance', 'waterfront', 'long']\n",
      "0.6905676744752949 is the R2 for ['sqft_living', 'distance', 'waterfront', 'sqft_living15']\n",
      "0.6573117166530791 is the R2 for ['sqft_living', 'distance', 'waterfront', 'sqft_lot15']\n",
      "0.6622840211520947 is the R2 for ['sqft_living', 'distance', 'waterfront', 'sqft_basement_diff']\n",
      "0.6529924411923391 is the R2 for ['sqft_living', 'distance', 'waterfront', 'house_age']\n",
      "0.6544752613861015 is the R2 for ['sqft_living', 'distance', 'waterfront', 'view_AVERAGE']\n",
      "0.6551758409489462 is the R2 for ['sqft_living', 'distance', 'waterfront', 'view_EXCELLENT']\n",
      "0.6535546067583412 is the R2 for ['sqft_living', 'distance', 'waterfront', 'view_FAIR']\n",
      "0.6550245340833417 is the R2 for ['sqft_living', 'distance', 'waterfront', 'view_GOOD']\n",
      "0.6595931575858163 is the R2 for ['sqft_living', 'distance', 'waterfront', 'view_NONE']\n",
      "0.6537166928856093 is the R2 for ['sqft_living', 'distance', 'waterfront', 'cond_Average']\n",
      "0.6546183062795579 is the R2 for ['sqft_living', 'distance', 'waterfront', 'cond_Fair']\n",
      "0.6532437013431613 is the R2 for ['sqft_living', 'distance', 'waterfront', 'cond_Good']\n",
      "0.6535903493070576 is the R2 for ['sqft_living', 'distance', 'waterfront', 'cond_Poor']\n",
      "0.6543399032799344 is the R2 for ['sqft_living', 'distance', 'waterfront', 'cond_Very Good']\n"
     ]
    }
   ],
   "source": [
    "# code here to iteratively improve your models\n",
    "for col in X_train.columns:\n",
    "    if(col not in ['sqft_living', 'distance','date', 'condition', 'waterfront',\\\n",
    "                   'grade', 'sqft_basement', 'grade_int']):\n",
    "        test_list = ['sqft_living','distance', 'waterfront' ,col]\n",
    "        #print(test_list)\n",
    "        fourth_X_train= X_train[test_list]\n",
    "        fourth_X_test = X_test[test_list]\n",
    "        fourth_model = sm.OLS(logged_fsm_y_train, sm.add_constant(fourth_X_train)).fit()\n",
    "        fourth_train_preds = fourth_model.predict(sm.add_constant(fourth_X_train))\n",
    "        fourth_test_preds = fourth_model.predict(sm.add_constant(fourth_X_test))\n",
    "        ##evaluate(logged_fsm_y_train, second_train_preds , logged_fsm_y_test, second_test_preds)\n",
    "        ##second_dict[col] = r2_score(logged_fsm_y_train, second_train_preds)\n",
    "        #print(f\"Train R2 with {test_list}\") \n",
    "        print(f\"{r2_score(logged_fsm_y_train, fourth_train_preds)} is the R2 for {test_list}\")\n"
   ]
  },
  {
   "cell_type": "markdown",
   "metadata": {},
   "source": [
    "#### We noticed that 'sqft_lot' had the highest r-squared score when combined with 'sqft_living', 'distance' and 'waterfront'"
   ]
  },
  {
   "cell_type": "code",
   "execution_count": 76,
   "metadata": {},
   "outputs": [
    {
     "name": "stdout",
     "output_type": "stream",
     "text": [
      "Train R2: 0.6579\n",
      "Test R2: 0.6550\n",
      "*****\n",
      "Train RMSE: $0.31\n",
      "Train RMSE: $0.31\n",
      "*****\n",
      "Train MAE: $0.24\n",
      "Train MAE: $0.24\n",
      "*****\n"
     ]
    },
    {
     "data": {
      "image/png": "[encoded data removed]",
      "text/plain": [
       "<Figure size 432x288 with 1 Axes>"
      ]
     },
     "metadata": {
      "needs_background": "light"
     },
     "output_type": "display_data"
    },
    {
     "data": {
      "image/png": "[encoded data removed]",
      "text/plain": [
       "<Figure size 432x288 with 1 Axes>"
      ]
     },
     "metadata": {
      "needs_background": "light"
     },
     "output_type": "display_data"
    },
    {
     "data": {
      "image/png": "[encoded data removed]",
      "text/plain": [
       "<Figure size 432x288 with 1 Axes>"
      ]
     },
     "metadata": {
      "needs_background": "light"
     },
     "output_type": "display_data"
    }
   ],
   "source": [
    "#next we are going to look at waterfront, house_age, and maybe view_NONE\n",
    "fourth_predictors = ['sqft_living', 'waterfront', 'distance', 'sqft_lot']\n",
    "fourth_X_train= X_train[fourth_predictors]\n",
    "fourth_X_test = X_test[fourth_predictors]\n",
    "fourth_model = sm.OLS(logged_fsm_y_train, sm.add_constant(fourth_X_train)).fit()\n",
    "fourth_train_preds = fourth_model.predict(sm.add_constant(fourth_X_train))\n",
    "fourth_test_preds = fourth_model.predict(sm.add_constant(fourth_X_test))\n",
    "evaluate(logged_fsm_y_train, fourth_train_preds , logged_fsm_y_test, fourth_test_preds)"
   ]
  },
  {
   "cell_type": "code",
   "execution_count": 77,
   "metadata": {},
   "outputs": [
    {
     "data": {
      "text/html": [
       "<div>\n",
       "<style scoped>\n",
       "    .dataframe tbody tr th:only-of-type {\n",
       "        vertical-align: middle;\n",
       "    }\n",
       "\n",
       "    .dataframe tbody tr th {\n",
       "        vertical-align: top;\n",
       "    }\n",
       "\n",
       "    .dataframe thead th {\n",
       "        text-align: right;\n",
       "    }\n",
       "</style>\n",
       "<table border=\"1\" class=\"dataframe\">\n",
       "  <thead>\n",
       "    <tr style=\"text-align: right;\">\n",
       "      <th></th>\n",
       "      <th>features</th>\n",
       "      <th>VIF</th>\n",
       "    </tr>\n",
       "  </thead>\n",
       "  <tbody>\n",
       "    <tr>\n",
       "      <th>0</th>\n",
       "      <td>sqft_living</td>\n",
       "      <td>2.955390</td>\n",
       "    </tr>\n",
       "    <tr>\n",
       "      <th>1</th>\n",
       "      <td>waterfront</td>\n",
       "      <td>1.017302</td>\n",
       "    </tr>\n",
       "    <tr>\n",
       "      <th>2</th>\n",
       "      <td>distance</td>\n",
       "      <td>3.005040</td>\n",
       "    </tr>\n",
       "    <tr>\n",
       "      <th>3</th>\n",
       "      <td>sqft_lot</td>\n",
       "      <td>1.218224</td>\n",
       "    </tr>\n",
       "  </tbody>\n",
       "</table>\n",
       "</div>"
      ],
      "text/plain": [
       "      features       VIF\n",
       "0  sqft_living  2.955390\n",
       "1   waterfront  1.017302\n",
       "2     distance  3.005040\n",
       "3     sqft_lot  1.218224"
      ]
     },
     "execution_count": 77,
     "metadata": {},
     "output_type": "execute_result"
    }
   ],
   "source": [
    "# defining an empty dataframe to capture the VIF scores\n",
    "vif_4 = pd.DataFrame()\n",
    "\n",
    "# label the scores with their related columns\n",
    "vif_4[\"features\"] = fourth_X_train.columns\n",
    "\n",
    "# For each column,run a variance_inflaction_factor against all other columns to get a VIF Factor score\n",
    "\n",
    "vif_4[\"VIF\"] = [variance_inflation_factor(fourth_X_train.values, i) \\\n",
    "                for i in range(len(fourth_X_train.columns))]\n",
    "\n",
    "vif_4"
   ]
  },
  {
   "cell_type": "code",
   "execution_count": 78,
   "metadata": {},
   "outputs": [
    {
     "data": {
      "text/html": [
       "<table class=\"simpletable\">\n",
       "<caption>OLS Regression Results</caption>\n",
       "<tr>\n",
       "  <th>Dep. Variable:</th>          <td>price</td>      <th>  R-squared:         </th> <td>   0.658</td>\n",
       "</tr>\n",
       "<tr>\n",
       "  <th>Model:</th>                   <td>OLS</td>       <th>  Adj. R-squared:    </th> <td>   0.658</td>\n",
       "</tr>\n",
       "<tr>\n",
       "  <th>Method:</th>             <td>Least Squares</td>  <th>  F-statistic:       </th> <td>   7784.</td>\n",
       "</tr>\n",
       "<tr>\n",
       "  <th>Date:</th>             <td>Tue, 05 Oct 2021</td> <th>  Prob (F-statistic):</th>  <td>  0.00</td> \n",
       "</tr>\n",
       "<tr>\n",
       "  <th>Time:</th>                 <td>18:40:12</td>     <th>  Log-Likelihood:    </th> <td> -3932.8</td>\n",
       "</tr>\n",
       "<tr>\n",
       "  <th>No. Observations:</th>      <td> 16197</td>      <th>  AIC:               </th> <td>   7876.</td>\n",
       "</tr>\n",
       "<tr>\n",
       "  <th>Df Residuals:</th>          <td> 16192</td>      <th>  BIC:               </th> <td>   7914.</td>\n",
       "</tr>\n",
       "<tr>\n",
       "  <th>Df Model:</th>              <td>     4</td>      <th>                     </th>     <td> </td>   \n",
       "</tr>\n",
       "<tr>\n",
       "  <th>Covariance Type:</th>      <td>nonrobust</td>    <th>                     </th>     <td> </td>   \n",
       "</tr>\n",
       "</table>\n",
       "<table class=\"simpletable\">\n",
       "<tr>\n",
       "       <td></td>          <th>coef</th>     <th>std err</th>      <th>t</th>      <th>P>|t|</th>  <th>[0.025</th>    <th>0.975]</th>  \n",
       "</tr>\n",
       "<tr>\n",
       "  <th>const</th>       <td>   12.5713</td> <td>    0.007</td> <td> 1747.727</td> <td> 0.000</td> <td>   12.557</td> <td>   12.585</td>\n",
       "</tr>\n",
       "<tr>\n",
       "  <th>sqft_living</th> <td>    0.0004</td> <td>  2.7e-06</td> <td>  149.565</td> <td> 0.000</td> <td>    0.000</td> <td>    0.000</td>\n",
       "</tr>\n",
       "<tr>\n",
       "  <th>waterfront</th>  <td>    0.6133</td> <td>    0.030</td> <td>   20.747</td> <td> 0.000</td> <td>    0.555</td> <td>    0.671</td>\n",
       "</tr>\n",
       "<tr>\n",
       "  <th>distance</th>    <td>   -0.0332</td> <td>    0.000</td> <td>  -87.858</td> <td> 0.000</td> <td>   -0.034</td> <td>   -0.032</td>\n",
       "</tr>\n",
       "<tr>\n",
       "  <th>sqft_lot</th>    <td> 9.503e-07</td> <td> 6.22e-08</td> <td>   15.282</td> <td> 0.000</td> <td> 8.28e-07</td> <td> 1.07e-06</td>\n",
       "</tr>\n",
       "</table>\n",
       "<table class=\"simpletable\">\n",
       "<tr>\n",
       "  <th>Omnibus:</th>       <td>768.142</td> <th>  Durbin-Watson:     </th> <td>   2.020</td> \n",
       "</tr>\n",
       "<tr>\n",
       "  <th>Prob(Omnibus):</th> <td> 0.000</td>  <th>  Jarque-Bera (JB):  </th> <td>1383.503</td> \n",
       "</tr>\n",
       "<tr>\n",
       "  <th>Skew:</th>          <td>-0.376</td>  <th>  Prob(JB):          </th> <td>3.77e-301</td>\n",
       "</tr>\n",
       "<tr>\n",
       "  <th>Kurtosis:</th>      <td> 4.219</td>  <th>  Cond. No.          </th> <td>5.30e+05</td> \n",
       "</tr>\n",
       "</table><br/><br/>Notes:<br/>[1] Standard Errors assume that the covariance matrix of the errors is correctly specified.<br/>[2] The condition number is large, 5.3e+05. This might indicate that there are<br/>strong multicollinearity or other numerical problems."
      ],
      "text/plain": [
       "<class 'statsmodels.iolib.summary.Summary'>\n",
       "\"\"\"\n",
       "                            OLS Regression Results                            \n",
       "==============================================================================\n",
       "Dep. Variable:                  price   R-squared:                       0.658\n",
       "Model:                            OLS   Adj. R-squared:                  0.658\n",
       "Method:                 Least Squares   F-statistic:                     7784.\n",
       "Date:                Tue, 05 Oct 2021   Prob (F-statistic):               0.00\n",
       "Time:                        18:40:12   Log-Likelihood:                -3932.8\n",
       "No. Observations:               16197   AIC:                             7876.\n",
       "Df Residuals:                   16192   BIC:                             7914.\n",
       "Df Model:                           4                                         \n",
       "Covariance Type:            nonrobust                                         \n",
       "===============================================================================\n",
       "                  coef    std err          t      P>|t|      [0.025      0.975]\n",
       "-------------------------------------------------------------------------------\n",
       "const          12.5713      0.007   1747.727      0.000      12.557      12.585\n",
       "sqft_living     0.0004    2.7e-06    149.565      0.000       0.000       0.000\n",
       "waterfront      0.6133      0.030     20.747      0.000       0.555       0.671\n",
       "distance       -0.0332      0.000    -87.858      0.000      -0.034      -0.032\n",
       "sqft_lot     9.503e-07   6.22e-08     15.282      0.000    8.28e-07    1.07e-06\n",
       "==============================================================================\n",
       "Omnibus:                      768.142   Durbin-Watson:                   2.020\n",
       "Prob(Omnibus):                  0.000   Jarque-Bera (JB):             1383.503\n",
       "Skew:                          -0.376   Prob(JB):                    3.77e-301\n",
       "Kurtosis:                       4.219   Cond. No.                     5.30e+05\n",
       "==============================================================================\n",
       "\n",
       "Notes:\n",
       "[1] Standard Errors assume that the covariance matrix of the errors is correctly specified.\n",
       "[2] The condition number is large, 5.3e+05. This might indicate that there are\n",
       "strong multicollinearity or other numerical problems.\n",
       "\"\"\""
      ]
     },
     "execution_count": 78,
     "metadata": {},
     "output_type": "execute_result"
    }
   ],
   "source": [
    "fourth_model.summary()"
   ]
  },
  {
   "cell_type": "markdown",
   "metadata": {},
   "source": [
    "### Fifth Iteration of Model"
   ]
  },
  {
   "cell_type": "code",
   "execution_count": 79,
   "metadata": {},
   "outputs": [
    {
     "name": "stdout",
     "output_type": "stream",
     "text": [
      "0.6610510868425257 is the R2 for ['sqft_living', 'distance', 'waterfront', 'sqft_lot', 'bedrooms']\n",
      "0.661589196827397 is the R2 for ['sqft_living', 'distance', 'waterfront', 'sqft_lot', 'bathrooms']\n",
      "0.6622153771138513 is the R2 for ['sqft_living', 'distance', 'waterfront', 'sqft_lot', 'floors']\n",
      "0.6671778178514145 is the R2 for ['sqft_living', 'distance', 'waterfront', 'sqft_lot', 'sqft_above']\n",
      "0.6580818617737596 is the R2 for ['sqft_living', 'distance', 'waterfront', 'sqft_lot', 'yr_built']\n",
      "0.6591437598460255 is the R2 for ['sqft_living', 'distance', 'waterfront', 'sqft_lot', 'yr_renovated']\n",
      "0.6745251197121788 is the R2 for ['sqft_living', 'distance', 'waterfront', 'sqft_lot', 'zipcode']\n",
      "0.704973057360579 is the R2 for ['sqft_living', 'distance', 'waterfront', 'sqft_lot', 'lat']\n",
      "0.6990698166039778 is the R2 for ['sqft_living', 'distance', 'waterfront', 'sqft_lot', 'long']\n",
      "0.6956154813473869 is the R2 for ['sqft_living', 'distance', 'waterfront', 'sqft_lot', 'sqft_living15']\n",
      "0.6585018963984857 is the R2 for ['sqft_living', 'distance', 'waterfront', 'sqft_lot', 'sqft_lot15']\n",
      "0.6671778178514145 is the R2 for ['sqft_living', 'distance', 'waterfront', 'sqft_lot', 'sqft_basement_diff']\n",
      "0.6580818617737596 is the R2 for ['sqft_living', 'distance', 'waterfront', 'sqft_lot', 'house_age']\n",
      "0.6592728913683465 is the R2 for ['sqft_living', 'distance', 'waterfront', 'sqft_lot', 'view_AVERAGE']\n",
      "0.6601371655235981 is the R2 for ['sqft_living', 'distance', 'waterfront', 'sqft_lot', 'view_EXCELLENT']\n",
      "0.6584986363652203 is the R2 for ['sqft_living', 'distance', 'waterfront', 'sqft_lot', 'view_FAIR']\n",
      "0.6596199479681524 is the R2 for ['sqft_living', 'distance', 'waterfront', 'sqft_lot', 'view_GOOD']\n",
      "0.664018995990439 is the R2 for ['sqft_living', 'distance', 'waterfront', 'sqft_lot', 'view_NONE']\n",
      "0.6585213649904009 is the R2 for ['sqft_living', 'distance', 'waterfront', 'sqft_lot', 'cond_Average']\n",
      "0.6597598226403313 is the R2 for ['sqft_living', 'distance', 'waterfront', 'sqft_lot', 'cond_Fair']\n",
      "0.6581237172449723 is the R2 for ['sqft_living', 'distance', 'waterfront', 'sqft_lot', 'cond_Good']\n",
      "0.6585929975085325 is the R2 for ['sqft_living', 'distance', 'waterfront', 'sqft_lot', 'cond_Poor']\n",
      "0.6592239209663713 is the R2 for ['sqft_living', 'distance', 'waterfront', 'sqft_lot', 'cond_Very Good']\n"
     ]
    }
   ],
   "source": [
    "# code here to iteratively improve your models\n",
    "for col in X_train.columns:\n",
    "    if(col not in ['sqft_living', 'distance','waterfront','sqft_lot','date', \\\n",
    "                   'condition', 'grade', 'sqft_basement', 'grade_int']):\n",
    "        test_list = ['sqft_living','distance', 'waterfront', 'sqft_lot',col]\n",
    "        #print(test_list)\n",
    "        fifth_X_train= X_train[test_list]\n",
    "        fifth_X_test = X_test[test_list]\n",
    "        fifth_model = sm.OLS(logged_fsm_y_train, sm.add_constant(fifth_X_train)).fit()\n",
    "        fifth_train_preds = fifth_model.predict(sm.add_constant(fifth_X_train))\n",
    "        fifth_test_preds = fifth_model.predict(sm.add_constant(fifth_X_test))\n",
    "        print(f\"{r2_score(logged_fsm_y_train, fifth_train_preds)} is the R2 for {test_list}\")"
   ]
  },
  {
   "cell_type": "code",
   "execution_count": 80,
   "metadata": {},
   "outputs": [
    {
     "name": "stdout",
     "output_type": "stream",
     "text": [
      "Train R2: 0.6672\n",
      "Test R2: 0.6633\n",
      "*****\n",
      "Train RMSE: $0.30\n",
      "Train RMSE: $0.30\n",
      "*****\n",
      "Train MAE: $0.24\n",
      "Train MAE: $0.24\n",
      "*****\n"
     ]
    },
    {
     "data": {
      "image/png": "[encoded data removed]",
      "text/plain": [
       "<Figure size 432x288 with 1 Axes>"
      ]
     },
     "metadata": {
      "needs_background": "light"
     },
     "output_type": "display_data"
    },
    {
     "data": {
      "image/png": "[encoded data removed]",
      "text/plain": [
       "<Figure size 432x288 with 1 Axes>"
      ]
     },
     "metadata": {
      "needs_background": "light"
     },
     "output_type": "display_data"
    },
    {
     "data": {
      "image/png": "[encoded data removed]",
      "text/plain": [
       "<Figure size 432x288 with 1 Axes>"
      ]
     },
     "metadata": {
      "needs_background": "light"
     },
     "output_type": "display_data"
    }
   ],
   "source": [
    "#next we are going to add ''\n",
    "fifth_predictors = ['sqft_living', 'waterfront', 'distance', 'sqft_lot', 'sqft_basement_diff']\n",
    "fifth_X_train= X_train[fifth_predictors]\n",
    "fifth_X_test = X_test[fifth_predictors]\n",
    "fifth_model = sm.OLS(logged_fsm_y_train, sm.add_constant(fifth_X_train)).fit()\n",
    "fifth_train_preds = fifth_model.predict(sm.add_constant(fifth_X_train))\n",
    "fifth_test_preds = fifth_model.predict(sm.add_constant(fifth_X_test))\n",
    "evaluate(logged_fsm_y_train, fifth_train_preds , logged_fsm_y_test, fifth_test_preds)"
   ]
  },
  {
   "cell_type": "code",
   "execution_count": 81,
   "metadata": {},
   "outputs": [
    {
     "data": {
      "text/html": [
       "<div>\n",
       "<style scoped>\n",
       "    .dataframe tbody tr th:only-of-type {\n",
       "        vertical-align: middle;\n",
       "    }\n",
       "\n",
       "    .dataframe tbody tr th {\n",
       "        vertical-align: top;\n",
       "    }\n",
       "\n",
       "    .dataframe thead th {\n",
       "        text-align: right;\n",
       "    }\n",
       "</style>\n",
       "<table border=\"1\" class=\"dataframe\">\n",
       "  <thead>\n",
       "    <tr style=\"text-align: right;\">\n",
       "      <th></th>\n",
       "      <th>features</th>\n",
       "      <th>VIF</th>\n",
       "    </tr>\n",
       "  </thead>\n",
       "  <tbody>\n",
       "    <tr>\n",
       "      <th>0</th>\n",
       "      <td>sqft_living</td>\n",
       "      <td>4.710312</td>\n",
       "    </tr>\n",
       "    <tr>\n",
       "      <th>1</th>\n",
       "      <td>waterfront</td>\n",
       "      <td>1.018821</td>\n",
       "    </tr>\n",
       "    <tr>\n",
       "      <th>2</th>\n",
       "      <td>distance</td>\n",
       "      <td>3.282947</td>\n",
       "    </tr>\n",
       "    <tr>\n",
       "      <th>3</th>\n",
       "      <td>sqft_lot</td>\n",
       "      <td>1.218265</td>\n",
       "    </tr>\n",
       "    <tr>\n",
       "      <th>4</th>\n",
       "      <td>sqft_basement_diff</td>\n",
       "      <td>1.910524</td>\n",
       "    </tr>\n",
       "  </tbody>\n",
       "</table>\n",
       "</div>"
      ],
      "text/plain": [
       "             features       VIF\n",
       "0         sqft_living  4.710312\n",
       "1          waterfront  1.018821\n",
       "2            distance  3.282947\n",
       "3            sqft_lot  1.218265\n",
       "4  sqft_basement_diff  1.910524"
      ]
     },
     "execution_count": 81,
     "metadata": {},
     "output_type": "execute_result"
    }
   ],
   "source": [
    "# defining an empty dataframe to capture the VIF scores\n",
    "vif_5 = pd.DataFrame()\n",
    "\n",
    "# label the scores with their related columns\n",
    "vif_5[\"features\"] = fifth_X_train.columns\n",
    "\n",
    "# For each column,run a variance_inflaction_factor against all other columns to get a VIF Factor score\n",
    "\n",
    "vif_5[\"VIF\"] = [variance_inflation_factor(fifth_X_train.values, i) \\\n",
    "                for i in range(len(fifth_X_train.columns))]\n",
    "\n",
    "vif_5"
   ]
  },
  {
   "cell_type": "code",
   "execution_count": 82,
   "metadata": {},
   "outputs": [
    {
     "data": {
      "text/html": [
       "<table class=\"simpletable\">\n",
       "<caption>OLS Regression Results</caption>\n",
       "<tr>\n",
       "  <th>Dep. Variable:</th>          <td>price</td>      <th>  R-squared:         </th> <td>   0.667</td>\n",
       "</tr>\n",
       "<tr>\n",
       "  <th>Model:</th>                   <td>OLS</td>       <th>  Adj. R-squared:    </th> <td>   0.667</td>\n",
       "</tr>\n",
       "<tr>\n",
       "  <th>Method:</th>             <td>Least Squares</td>  <th>  F-statistic:       </th> <td>   6491.</td>\n",
       "</tr>\n",
       "<tr>\n",
       "  <th>Date:</th>             <td>Tue, 05 Oct 2021</td> <th>  Prob (F-statistic):</th>  <td>  0.00</td> \n",
       "</tr>\n",
       "<tr>\n",
       "  <th>Time:</th>                 <td>18:40:13</td>     <th>  Log-Likelihood:    </th> <td> -3709.6</td>\n",
       "</tr>\n",
       "<tr>\n",
       "  <th>No. Observations:</th>      <td> 16197</td>      <th>  AIC:               </th> <td>   7431.</td>\n",
       "</tr>\n",
       "<tr>\n",
       "  <th>Df Residuals:</th>          <td> 16191</td>      <th>  BIC:               </th> <td>   7477.</td>\n",
       "</tr>\n",
       "<tr>\n",
       "  <th>Df Model:</th>              <td>     5</td>      <th>                     </th>     <td> </td>   \n",
       "</tr>\n",
       "<tr>\n",
       "  <th>Covariance Type:</th>      <td>nonrobust</td>    <th>                     </th>     <td> </td>   \n",
       "</tr>\n",
       "</table>\n",
       "<table class=\"simpletable\">\n",
       "<tr>\n",
       "           <td></td>             <th>coef</th>     <th>std err</th>      <th>t</th>      <th>P>|t|</th>  <th>[0.025</th>    <th>0.975]</th>  \n",
       "</tr>\n",
       "<tr>\n",
       "  <th>const</th>              <td>   12.5742</td> <td>    0.007</td> <td> 1772.009</td> <td> 0.000</td> <td>   12.560</td> <td>   12.588</td>\n",
       "</tr>\n",
       "<tr>\n",
       "  <th>sqft_living</th>        <td>    0.0004</td> <td> 2.99e-06</td> <td>  144.830</td> <td> 0.000</td> <td>    0.000</td> <td>    0.000</td>\n",
       "</tr>\n",
       "<tr>\n",
       "  <th>waterfront</th>         <td>    0.6377</td> <td>    0.029</td> <td>   21.855</td> <td> 0.000</td> <td>    0.581</td> <td>    0.695</td>\n",
       "</tr>\n",
       "<tr>\n",
       "  <th>distance</th>           <td>   -0.0353</td> <td>    0.000</td> <td>  -91.552</td> <td> 0.000</td> <td>   -0.036</td> <td>   -0.035</td>\n",
       "</tr>\n",
       "<tr>\n",
       "  <th>sqft_lot</th>           <td> 9.464e-07</td> <td> 6.13e-08</td> <td>   15.430</td> <td> 0.000</td> <td> 8.26e-07</td> <td> 1.07e-06</td>\n",
       "</tr>\n",
       "<tr>\n",
       "  <th>sqft_basement_diff</th> <td>   -0.0001</td> <td> 6.22e-06</td> <td>  -21.273</td> <td> 0.000</td> <td>   -0.000</td> <td>   -0.000</td>\n",
       "</tr>\n",
       "</table>\n",
       "<table class=\"simpletable\">\n",
       "<tr>\n",
       "  <th>Omnibus:</th>       <td>707.525</td> <th>  Durbin-Watson:     </th> <td>   2.016</td> \n",
       "</tr>\n",
       "<tr>\n",
       "  <th>Prob(Omnibus):</th> <td> 0.000</td>  <th>  Jarque-Bera (JB):  </th> <td>1243.626</td> \n",
       "</tr>\n",
       "<tr>\n",
       "  <th>Skew:</th>          <td>-0.357</td>  <th>  Prob(JB):          </th> <td>8.91e-271</td>\n",
       "</tr>\n",
       "<tr>\n",
       "  <th>Kurtosis:</th>      <td> 4.154</td>  <th>  Cond. No.          </th> <td>5.31e+05</td> \n",
       "</tr>\n",
       "</table><br/><br/>Notes:<br/>[1] Standard Errors assume that the covariance matrix of the errors is correctly specified.<br/>[2] The condition number is large, 5.31e+05. This might indicate that there are<br/>strong multicollinearity or other numerical problems."
      ],
      "text/plain": [
       "<class 'statsmodels.iolib.summary.Summary'>\n",
       "\"\"\"\n",
       "                            OLS Regression Results                            \n",
       "==============================================================================\n",
       "Dep. Variable:                  price   R-squared:                       0.667\n",
       "Model:                            OLS   Adj. R-squared:                  0.667\n",
       "Method:                 Least Squares   F-statistic:                     6491.\n",
       "Date:                Tue, 05 Oct 2021   Prob (F-statistic):               0.00\n",
       "Time:                        18:40:13   Log-Likelihood:                -3709.6\n",
       "No. Observations:               16197   AIC:                             7431.\n",
       "Df Residuals:                   16191   BIC:                             7477.\n",
       "Df Model:                           5                                         \n",
       "Covariance Type:            nonrobust                                         \n",
       "======================================================================================\n",
       "                         coef    std err          t      P>|t|      [0.025      0.975]\n",
       "--------------------------------------------------------------------------------------\n",
       "const                 12.5742      0.007   1772.009      0.000      12.560      12.588\n",
       "sqft_living            0.0004   2.99e-06    144.830      0.000       0.000       0.000\n",
       "waterfront             0.6377      0.029     21.855      0.000       0.581       0.695\n",
       "distance              -0.0353      0.000    -91.552      0.000      -0.036      -0.035\n",
       "sqft_lot            9.464e-07   6.13e-08     15.430      0.000    8.26e-07    1.07e-06\n",
       "sqft_basement_diff    -0.0001   6.22e-06    -21.273      0.000      -0.000      -0.000\n",
       "==============================================================================\n",
       "Omnibus:                      707.525   Durbin-Watson:                   2.016\n",
       "Prob(Omnibus):                  0.000   Jarque-Bera (JB):             1243.626\n",
       "Skew:                          -0.357   Prob(JB):                    8.91e-271\n",
       "Kurtosis:                       4.154   Cond. No.                     5.31e+05\n",
       "==============================================================================\n",
       "\n",
       "Notes:\n",
       "[1] Standard Errors assume that the covariance matrix of the errors is correctly specified.\n",
       "[2] The condition number is large, 5.31e+05. This might indicate that there are\n",
       "strong multicollinearity or other numerical problems.\n",
       "\"\"\""
      ]
     },
     "execution_count": 82,
     "metadata": {},
     "output_type": "execute_result"
    }
   ],
   "source": [
    "fifth_model.summary()"
   ]
  },
  {
   "cell_type": "code",
   "execution_count": 83,
   "metadata": {},
   "outputs": [],
   "source": [
    "# code here to evaluate your iterations"
   ]
  },
  {
   "cell_type": "markdown",
   "metadata": {},
   "source": [
    "### 'Final' Model\n",
    "\n",
    "In the end, you'll arrive at a 'final' model - aka the one you'll use to make your recommendations/conclusions. This likely blends any group work. It might not be the one with the highest scores, but instead might be considered 'final' or 'best' for other reasons."
   ]
  },
  {
   "cell_type": "code",
   "execution_count": 84,
   "metadata": {},
   "outputs": [],
   "source": [
    "# code here to show your final model"
   ]
  },
  {
   "cell_type": "code",
   "execution_count": 85,
   "metadata": {},
   "outputs": [],
   "source": [
    "# code here to evaluate your final model"
   ]
  },
  {
   "cell_type": "markdown",
   "metadata": {},
   "source": [
    "## Conclusions\n",
    "\n",
    "Provide your conclusions about the work you've done, including any limitations or next steps.\n",
    "\n",
    "Questions to consider:\n",
    "\n",
    "- What would you recommend the business do as a result of this work?\n",
    "- What are some reasons why your analysis might not fully solve the business problem?\n",
    "- What else could you do in the future to improve this project (future work)?\n"
   ]
  }
 ],
 "metadata": {
  "kernelspec": {
   "display_name": "Python (learn-env)",
   "language": "python",
   "name": "learn-env"
  },
  "language_info": {
   "codemirror_mode": {
    "name": "ipython",
    "version": 3
   },
   "file_extension": ".py",
   "mimetype": "text/x-python",
   "name": "python",
   "nbconvert_exporter": "python",
   "pygments_lexer": "ipython3",
   "version": "3.8.5"
  }
 },
 "nbformat": 4,
 "nbformat_minor": 4
}
